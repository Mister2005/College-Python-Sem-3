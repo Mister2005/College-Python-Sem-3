{
 "cells": [
  {
   "cell_type": "markdown",
   "id": "584bda06-21de-483b-a3a0-23d30d0b10e6",
   "metadata": {},
   "source": [
    "1. Create a GUI form with the details like (Name, age(take a password field to hide age ), city, gender (radiobutton), favourite game (check button) Etc) and print the details on the frame area."
   ]
  },
  {
   "cell_type": "code",
   "execution_count": 4,
   "id": "abad2d21-042f-42de-b1cd-40074fabec17",
   "metadata": {},
   "outputs": [],
   "source": [
    "import tkinter as tk\n",
    "from tkinter import messagebox\n",
    "\n",
    "def submit_details():\n",
    "    name = name_entry.get()\n",
    "    age = age_entry.get()\n",
    "    city = city_entry.get()\n",
    "    gender = gender_var.get()\n",
    "    favorite_games = [game for game, var in games.items() if var.get()]\n",
    "    \n",
    "    if not name or not age or not city:\n",
    "        messagebox.showwarning(\"Input Error\", \"Please fill all fields.\")\n",
    "        return\n",
    "    else:\n",
    "        messagebox.showinfo(\"Details\", f\"Name: {name}\\nAge: {age}\\nCity: {city}\\nGender: {gender}\\nFavorite Games: {favorite_games}\")\n",
    "    \n",
    "    details = f\"Name: {name}\\nAge: {age}\\nCity: {city}\\nGender: {gender}\\nFavorite Games: {', '.join(favorite_games)}\"\n",
    "    details_label.config(text=details)\n",
    "\n",
    "root = tk.Tk()\n",
    "root.title(\"User Details Form\")\n",
    "\n",
    "tk.Label(root, text=\"Name\").grid(row=0, column=0, padx=10, pady=5)\n",
    "name_entry = tk.Entry(root)\n",
    "name_entry.grid(row=0, column=1, padx=10, pady=5)\n",
    "\n",
    "tk.Label(root, text=\"Age\").grid(row=1, column=0, padx=10, pady=5)\n",
    "age_entry = tk.Entry(root, show=\"*\")  \n",
    "age_entry.grid(row=1, column=1, padx=10, pady=5)\n",
    "\n",
    "tk.Label(root, text=\"City\").grid(row=2, column=0, padx=10, pady=5)\n",
    "city_entry = tk.Entry(root)\n",
    "city_entry.grid(row=2, column=1, padx=10, pady=5)\n",
    "\n",
    "tk.Label(root, text=\"Gender\").grid(row=3, column=0, padx=10, pady=5)\n",
    "gender_var = tk.StringVar()\n",
    "tk.Radiobutton(root, text=\"Male\", variable=gender_var, value=\"Male\").grid(row=3, column=1, padx=5)\n",
    "tk.Radiobutton(root, text=\"Female\", variable=gender_var, value=\"Female\").grid(row=3, column=2, padx=5)\n",
    "\n",
    "tk.Label(root, text=\"Favorite Games\").grid(row=4, column=0, padx=10, pady=5)\n",
    "\n",
    "games = {\n",
    "    \"Football\": tk.IntVar(),\n",
    "    \"Basketball\": tk.IntVar(),\n",
    "    \"Cricket\": tk.IntVar(),\n",
    "    \"Volley ball\": tk.IntVar()\n",
    "}\n",
    "\n",
    "for idx, (game, var) in enumerate(games.items()):\n",
    "    tk.Checkbutton(root, text=game, variable=var).grid(row=4, column=idx + 1, padx=5)\n",
    "\n",
    "submit_button = tk.Button(root, text=\"Submit\", command=submit_details)\n",
    "submit_button.grid(row=5, column=0, columnspan=3, pady=10)\n",
    "\n",
    "details_label = tk.Label(root, text=\"\", justify=tk.LEFT)\n",
    "details_label.grid(row=6, column=0, columnspan=3, padx=10, pady=5)\n",
    "\n",
    "root.mainloop()"
   ]
  },
  {
   "cell_type": "markdown",
   "id": "14c755e4-4846-4616-b652-f92bfe0b6542",
   "metadata": {},
   "source": [
    "2. Create a GUI frame to find factorial of an input number. User is allowed to enter a number into the text field whose factorial is to be determined. On pressing the button the value of the text field is firstly converted into integer and then processed to find its factorial. The result will get displayed on command prompt."
   ]
  },
  {
   "cell_type": "code",
   "execution_count": 2,
   "id": "a3280ede-67e5-4d70-ad51-50a30b89b1aa",
   "metadata": {},
   "outputs": [
    {
     "name": "stdout",
     "output_type": "stream",
     "text": [
      "The factorial of 4 is 24.\n",
      "The factorial of 5 is 120.\n",
      "The factorial of 10 is 3628800.\n",
      "The factorial of 3 is 6.\n",
      "The factorial of 2 is 2.\n",
      "The factorial of 1 is 1.\n",
      "The factorial of 0 is 1.\n",
      "The factorial of 8 is 40320.\n",
      "The factorial of 7 is 5040.\n",
      "The factorial of 9 is 362880.\n"
     ]
    }
   ],
   "source": [
    "import tkinter as tk\n",
    "from tkinter import messagebox\n",
    "import math\n",
    "\n",
    "def calculate_factorial():\n",
    "    try:\n",
    "        num = int(number_entry.get())\n",
    "        if num < 0:\n",
    "            raise ValueError(\"Negative numbers do not have a factorial.\")\n",
    "        result = math.factorial(num)\n",
    "        print(f\"The factorial of {num} is {result}.\")\n",
    "    except ValueError as e:\n",
    "        messagebox.showerror(\"Input Error\", str(e))\n",
    "\n",
    "root = tk.Tk()\n",
    "root.title(\"Factorial Calculator\")\n",
    "\n",
    "tk.Label(root, text=\"Enter a number:\").pack(padx=10, pady=10)\n",
    "number_entry = tk.Entry(root)\n",
    "number_entry.pack(padx=10, pady=10)\n",
    "\n",
    "calculate_button = tk.Button(root, text=\"Calculate Factorial\", command=calculate_factorial)\n",
    "calculate_button.pack(padx=10, pady=10)\n",
    "\n",
    "root.mainloop()"
   ]
  },
  {
   "cell_type": "markdown",
   "id": "e2c8f6a4-cef5-4524-80bd-cbb33741ced1",
   "metadata": {},
   "source": [
    "3. Create a Christmas tree using various shapes (Triangle, rectangle(for stem), circle(for decoration), of in Canvas"
   ]
  },
  {
   "cell_type": "code",
   "execution_count": 1,
   "id": "99f36f64-5331-4bd5-9cd9-9de28ee87b36",
   "metadata": {},
   "outputs": [],
   "source": [
    "import tkinter as tk\n",
    "\n",
    "def draw_christmas_tree(canvas):\n",
    "    canvas.create_rectangle(190, 300, 210, 350, fill=\"saddlebrown\")  \n",
    "\n",
    "    # Triangles for foliage\n",
    "    canvas.create_polygon(150, 300, 250, 300, 200, 200, fill=\"green\")  \n",
    "    canvas.create_polygon(160, 240, 240, 240, 200, 160, fill=\"green\")  \n",
    "    canvas.create_polygon(170, 180, 230, 180, 200, 100, fill=\"green\") \n",
    "\n",
    "    # Circles for decorations\n",
    "    canvas.create_oval(180, 220, 200, 240, fill=\"red\")  \n",
    "    canvas.create_oval(170, 160, 190, 180, fill=\"yellow\")  \n",
    "    canvas.create_oval(210, 160, 230, 180, fill=\"blue\")  \n",
    "    canvas.create_oval(160, 200, 180, 220, fill=\"purple\")  \n",
    "    canvas.create_oval(220, 200, 240, 220, fill=\"orange\")  \n",
    "\n",
    "root = tk.Tk()\n",
    "root.title(\"Christmas Tree\")\n",
    "\n",
    "canvas = tk.Canvas(root, width=400, height=400, bg=\"lightblue\")\n",
    "canvas.pack()\n",
    "\n",
    "draw_christmas_tree(canvas)\n",
    "\n",
    "root.mainloop()"
   ]
  }
 ],
 "metadata": {
  "kernelspec": {
   "display_name": "Python 3",
   "language": "python",
   "name": "python3"
  },
  "language_info": {
   "codemirror_mode": {
    "name": "ipython",
    "version": 3
   },
   "file_extension": ".py",
   "mimetype": "text/x-python",
   "name": "python",
   "nbconvert_exporter": "python",
   "pygments_lexer": "ipython3",
   "version": "3.12.3"
  }
 },
 "nbformat": 4,
 "nbformat_minor": 5
}
