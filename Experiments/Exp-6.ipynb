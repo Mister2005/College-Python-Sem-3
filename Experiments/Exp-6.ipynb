{
 "cells": [
  {
   "cell_type": "markdown",
   "metadata": {},
   "source": [
    "# Experiment 6 of Varun Gupta"
   ]
  },
  {
   "cell_type": "markdown",
   "metadata": {},
   "source": [
    "#### 1.\tPython program to store all even numbers from an array i"
   ]
  },
  {
   "cell_type": "code",
   "execution_count": 1,
   "metadata": {},
   "outputs": [
    {
     "name": "stdout",
     "output_type": "stream",
     "text": [
      "Even numbers: [2, 4]\n"
     ]
    }
   ],
   "source": [
    "def even_num(arr):\n",
    "    even_numbers = [num for num in arr if num % 2 == 0]\n",
    "    return even_numbers\n",
    "\n",
    "numbers = []\n",
    "n = int(input(\"Enter number of elements : \"))\n",
    "for i in range(0, n):\n",
    "    e = int(input())\n",
    "    numbers.append(e)\n",
    "even_numbers = even_num(numbers)\n",
    "print(\"Even numbers:\", even_numbers)"
   ]
  },
  {
   "cell_type": "markdown",
   "metadata": {},
   "source": [
    "#### 2.\tProgram to find a pair with highest product from a given array of integers."
   ]
  },
  {
   "cell_type": "code",
   "execution_count": 4,
   "metadata": {},
   "outputs": [
    {
     "name": "stdout",
     "output_type": "stream",
     "text": [
      "The pair with the highest product is (89, 67) with product 5963\n"
     ]
    }
   ],
   "source": [
    "def max_product_pair(arr):\n",
    "    n = len(arr)\n",
    "    if n < 2:\n",
    "        return \"No pairs exist\"\n",
    "    #inf stands for infinity\n",
    "    max1 = max2 = float('-inf')\n",
    "    min1 = min2 = float('inf')\n",
    "    for num in arr:\n",
    "        if num > max1:\n",
    "            max2 = max1\n",
    "            max1 = num\n",
    "        elif num > max2:\n",
    "            max2 = num\n",
    "        if num < min1:\n",
    "            min2 = min1\n",
    "            min1 = num\n",
    "        elif num < min2:\n",
    "            min2 = num\n",
    "    if max1 * max2 > min1 * min2:\n",
    "        return f\"The pair with the highest product is ({max1}, {max2}) with product {max1 * max2}\"\n",
    "    else:\n",
    "        return f\"The pair with the highest product is ({min1}, {min2}) with product {min1 * min2}\"\n",
    "\n",
    "numbers = []\n",
    "n = int(input(\"Enter number of elements : \"))\n",
    "for i in range(0, n):\n",
    "    e = int(input())\n",
    "    numbers.append(e)\n",
    "\n",
    "result = max_product_pair(numbers)\n",
    "print(result)"
   ]
  },
  {
   "cell_type": "markdown",
   "metadata": {},
   "source": [
    "#### 3.\tWrite a Python program that takes two digits m (row) and n (column) as input and generates a two-dimensional array. The element value in the i-th row and j-th column of the array should be i*j.\n",
    "Note :\n",
    "i = 0,1.., m-1\n",
    "j = 0,1, n-1."
   ]
  },
  {
   "cell_type": "code",
   "execution_count": 6,
   "metadata": {},
   "outputs": [
    {
     "name": "stdout",
     "output_type": "stream",
     "text": [
      "Generated 2D array:\n",
      "[0, 0, 0, 0]\n",
      "[0, 1, 2, 3]\n",
      "[0, 2, 4, 6]\n"
     ]
    }
   ],
   "source": [
    "def generate_2d_array(m, n):\n",
    "    array = [[i * j for j in range(n)] for i in range(m)]\n",
    "    return array\n",
    "\n",
    "m = int(input(\"Enter the number of rows (m): \"))\n",
    "n = int(input(\"Enter the number of columns (n): \"))\n",
    "result = generate_2d_array(m, n)\n",
    "print(\"Generated 2D array:\")\n",
    "for rows in result:\n",
    "    print(rows)"
   ]
  },
  {
   "cell_type": "markdown",
   "metadata": {},
   "source": [
    "#### 4.\tWAP to find addition of matrices."
   ]
  },
  {
   "cell_type": "code",
   "execution_count": 10,
   "metadata": {},
   "outputs": [
    {
     "name": "stdout",
     "output_type": "stream",
     "text": [
      "Enter elements for a 2x2 matrix:\n",
      "Enter elements for a 2x2 matrix:\n",
      "Result of matrix addition:\n",
      "[6, 8]\n",
      "[10, 12]\n"
     ]
    }
   ],
   "source": [
    "def matrix_input(rows, cols):\n",
    "    matrix = []\n",
    "    print(f\"Enter elements for a {rows}x{cols} matrix:\")\n",
    "    for i in range(rows):\n",
    "        row = list(map(int, input(f\"Enter row {i + 1} (space-separated): \").split()))\n",
    "        if len(row) != cols:\n",
    "            print(f\"Error: Row {i + 1} must contain {cols} elements.\")\n",
    "            return None\n",
    "        else: matrix.append(row)\n",
    "    return matrix\n",
    "\n",
    "def add_matrices(matrix1, matrix2):\n",
    "    rows = len(matrix1)\n",
    "    cols = len(matrix1[0])    \n",
    "    result = [[0 for _ in range(cols)] for _ in range(rows)]\n",
    "    for i in range(rows):\n",
    "        for j in range(cols):\n",
    "            result[i][j] = matrix1[i][j] + matrix2[i][j]    \n",
    "    return result\n",
    "\n",
    "rows = int(input(\"Enter the number of rows: \"))\n",
    "cols = int(input(\"Enter the number of columns: \"))\n",
    "\n",
    "matrix1 = matrix_input(rows, cols)\n",
    "matrix2 = matrix_input(rows, cols)\n",
    "\n",
    "if matrix1 is not None and matrix2 is not None:\n",
    "    result = add_matrices(matrix1, matrix2)\n",
    "    print(\"Result of matrix addition:\")\n",
    "    for row in result:\n",
    "        print(row)\n",
    "else:\n",
    "    print(\"Matrix input error.\")"
   ]
  }
 ],
 "metadata": {
  "kernelspec": {
   "display_name": "Python 3",
   "language": "python",
   "name": "python3"
  },
  "language_info": {
   "codemirror_mode": {
    "name": "ipython",
    "version": 3
   },
   "file_extension": ".py",
   "mimetype": "text/x-python",
   "name": "python",
   "nbconvert_exporter": "python",
   "pygments_lexer": "ipython3",
   "version": "3.12.3"
  }
 },
 "nbformat": 4,
 "nbformat_minor": 2
}
