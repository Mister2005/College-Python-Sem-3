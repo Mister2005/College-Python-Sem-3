{
 "cells": [
  {
   "cell_type": "markdown",
   "id": "139b6594-2a7e-46c4-98b1-ea5d0c6780e0",
   "metadata": {},
   "source": [
    "1. Create a Python function that checks if a given number is prime. Handle exceptions for \n",
    "non-integer input and provide informative error messages."
   ]
  },
  {
   "cell_type": "code",
   "execution_count": 1,
   "id": "b067b91d-4bbd-4cd8-b1b1-62f510d3c65f",
   "metadata": {},
   "outputs": [
    {
     "name": "stdout",
     "output_type": "stream",
     "text": [
      "True\n",
      "True\n",
      "Input must be an integer.\n"
     ]
    }
   ],
   "source": [
    "import numpy as np\n",
    "\n",
    "def is_prime(n):\n",
    "    try:\n",
    "        if not isinstance(n, int):\n",
    "            raise ValueError(\"Input must be an integer.\")\n",
    "        if n <= 1:\n",
    "            return False\n",
    "        for i in range(2, int(n**0.5) + 1):\n",
    "            if n % i == 0:\n",
    "                return False\n",
    "        return True\n",
    "    except ValueError as e:\n",
    "        print(e)\n",
    "        return None\n",
    "\n",
    "a = int(input(\"Enter an integer: \"))\n",
    "b = int(input(\"Enter an integer: \"))\n",
    "print(is_prime(a))\n",
    "print(is_prime(b))\n",
    "is_prime(np.nan)"
   ]
  },
  {
   "cell_type": "markdown",
   "id": "ce48069a-2ff3-48db-8ae0-7ab41a3b380d",
   "metadata": {},
   "source": [
    "2. You're going to write an interactive calculator! User input is assumed to be a formula that \n",
    "consist of a number, an operator (at least + and -), and another number, separated by white \n",
    "space (e.g. 1 + 1). Split user input using str.split(), and check whether the resulting list is \n",
    "valid: \n",
    "a. If the input does not consist of 3 elements, raise a FormulaError, which is a \n",
    "custom Exception. \n",
    "b. Try to convert the first and third input to a float (like so: float_value = \n",
    "float(str_value)). Catch any ValueError that occurs, and instead raise a \n",
    "FormulaError \n",
    "c. If the second input is not '+' or '-', again raise a FormulaError \n",
    "If the input is valid, perform the calculation and print out the result. The user is then \n",
    "prompted to provide new input, and so on, until the user enters quit."
   ]
  },
  {
   "cell_type": "code",
   "execution_count": 2,
   "id": "ad9f1063-5768-4a1e-9566-4b998103ade5",
   "metadata": {},
   "outputs": [
    {
     "name": "stdout",
     "output_type": "stream",
     "text": [
      "14.0\n"
     ]
    }
   ],
   "source": [
    "class FormulaError(Exception):\n",
    "    pass\n",
    "\n",
    "def interactive_calculator():\n",
    "    while True:\n",
    "        user_input = input(\"Enter formula or 'quit' to exit: \")\n",
    "        if user_input == 'quit':\n",
    "            break\n",
    "        try:\n",
    "            parts = user_input.split()\n",
    "            if len(parts) != 3:\n",
    "                raise FormulaError(\"Input must consist of exactly three elements.\")\n",
    "            num1, operator, num2 = parts\n",
    "            num1 = float(num1)\n",
    "            num2 = float(num2)\n",
    "            if operator not in ['+', '-']:\n",
    "                raise FormulaError(\"Operator must be '+' or '-'.\")\n",
    "            if operator == '+':\n",
    "                print(num1 + num2)\n",
    "            elif operator == '-':\n",
    "                print(num1 - num2)\n",
    "        except ValueError:\n",
    "            print(\"The first and third elements must be numbers.\")\n",
    "        except FormulaError as e:\n",
    "            print(e)\n",
    "interactive_calculator()"
   ]
  },
  {
   "cell_type": "markdown",
   "id": "e2f7371d-2c90-4a5b-9a72-0e4c7fa80958",
   "metadata": {},
   "source": [
    "3. Write a Python program that opens a file and display contents of file and handles a \n",
    "FileNotFoundError exception if the file does not exist."
   ]
  },
  {
   "cell_type": "code",
   "execution_count": null,
   "id": "309210f5-977f-4ff4-ae7a-27b290d7065a",
   "metadata": {},
   "outputs": [
    {
     "name": "stdout",
     "output_type": "stream",
     "text": [
      "Hello world.\n",
      "My Name is Varun.\n"
     ]
    }
   ],
   "source": [
    "def display_file_contents(filename):\n",
    "    try:\n",
    "        with open(filename, 'r') as file:\n",
    "            print(file.read())\n",
    "    except FileNotFoundError:\n",
    "        print(f\"The file '{filename}' does not exist.\")\n",
    "\n",
    "\n",
    "with open('existing_file.txt', 'w') as f:\n",
    "    f.write(\"Hello world.\")\n",
    "    \n",
    "display_file_contents('existing_file.txt')\n",
    "\n",
    "display_file_contents('non_existing_file.txt')"
   ]
  },
  {
   "cell_type": "markdown",
   "id": "6ced2dd0-0294-4b62-83a2-76be568150e8",
   "metadata": {},
   "source": [
    "4. Write a Python program that opens a file in write mode using with..open and handles a PermissionError exception if there is a permission issue."
   ]
  },
  {
   "cell_type": "code",
   "execution_count": null,
   "id": "4cb26724-260b-4f2c-b439-5a8811e441a3",
   "metadata": {},
   "outputs": [
    {
     "name": "stdout",
     "output_type": "stream",
     "text": [
      "Successfully wrote to 'test_file.txt'.\n",
      "Permission denied: Unable to write to 'C:\\test_file.'.\n"
     ]
    }
   ],
   "source": [
    "def write_to_file(filename, content):\n",
    "    try:\n",
    "        with open(filename, 'w') as file:\n",
    "            file.write(content)\n",
    "        print(f\"Successfully wrote to '{filename}'.\")\n",
    "    except PermissionError:\n",
    "        print(f\"Permission denied: Unable to write to '{filename}'.\")\n",
    "\n",
    "write_to_file('test_file.txt', 'This is a test content.')\n",
    "write_to_file('C:\\\\test_file.', 'This will fail due to permission issues.')"
   ]
  }
 ],
 "metadata": {
  "kernelspec": {
   "display_name": "Python 3",
   "language": "python",
   "name": "python3"
  },
  "language_info": {
   "codemirror_mode": {
    "name": "ipython",
    "version": 3
   },
   "file_extension": ".py",
   "mimetype": "text/x-python",
   "name": "python",
   "nbconvert_exporter": "python",
   "pygments_lexer": "ipython3",
   "version": "3.12.3"
  }
 },
 "nbformat": 4,
 "nbformat_minor": 5
}
