{
 "cells": [
  {
   "cell_type": "markdown",
   "metadata": {},
   "source": [
    "# Experiment - 1 by Varun Gupta "
   ]
  },
  {
   "cell_type": "markdown",
   "metadata": {},
   "source": [
    "### Problem statement - 1"
   ]
  },
  {
   "cell_type": "code",
   "execution_count": 1,
   "metadata": {},
   "outputs": [
    {
     "name": "stdout",
     "output_type": "stream",
     "text": [
      "9 3.0 5 A 12.0 6.0 27.0 0.3333333333333333 19683.0\n"
     ]
    }
   ],
   "source": [
    "# Write python programs to understand Comments, Datatypes, Expressions, Input and Output Functions.\n",
    "import random\n",
    "x = int(random.randint(0,10))\n",
    "y = float(random.randint(0,10))\n",
    "z = str(input())\n",
    "add = x+y\n",
    "sub = x-y\n",
    "mult = x*y\n",
    "div = y/x\n",
    "power = y**x\n",
    "w = 'A'\n",
    "print(x,y,z,w,add,sub,mult,div,power)"
   ]
  },
  {
   "cell_type": "markdown",
   "metadata": {},
   "source": [
    "### Problem statement - 2"
   ]
  },
  {
   "cell_type": "code",
   "execution_count": 2,
   "metadata": {},
   "outputs": [
    {
     "name": "stdout",
     "output_type": "stream",
     "text": [
      "Employee Information: 1848256 \n",
      " Varun \n",
      " 9313228845.0 \n",
      " 6.2 \n",
      " 108.0 \n",
      " Male \n",
      " 50000000.0\n"
     ]
    }
   ],
   "source": [
    "# Write a python program display an employee information like Emp_ID, Name, mail_Id, Mobile No, height, weight and gender, salary\n",
    "Emp_ID = input(\"Enter the emplyee ID: \")\n",
    "Name = input(\"Enter the Name: \")\n",
    "mail_ID = input(\"Enter the email ID: \")\n",
    "Mobile_No = float(input(\"Enter the mobile\tnumber: \"))\n",
    "height = float(input(\"Enter the height: \"))\n",
    "weight = float(input(\"Enter the weight: \"))\n",
    "gender = input(\"Enter the gender: \")\n",
    "salary = float(input(\"Enter the salary: \"))\n",
    "print(\"Employee Information:\", Emp_ID,\"\\n\",Name,\"\\n\",Mobile_No,\"\\n\",height,\"\\n\",weight,\"\\n\",gender,\"\\n\",salary)"
   ]
  },
  {
   "cell_type": "markdown",
   "metadata": {},
   "source": [
    "### Problem Statement - 3"
   ]
  },
  {
   "cell_type": "code",
   "execution_count": 3,
   "metadata": {},
   "outputs": [
    {
     "name": "stdout",
     "output_type": "stream",
     "text": [
      "12.0 6.0 27.0 0.3333333333333333 19683.0\n"
     ]
    }
   ],
   "source": [
    "# Write python programs to implement various mathematical functions.\n",
    "add = x + y\n",
    "sub = x - y\n",
    "mult = x * y\n",
    "div = y / x\n",
    "power = y**x\n",
    "print(add,sub,mult,div,power)"
   ]
  },
  {
   "cell_type": "code",
   "execution_count": 4,
   "metadata": {},
   "outputs": [
    {
     "name": "stdout",
     "output_type": "stream",
     "text": [
      "5\n",
      "10\n"
     ]
    }
   ],
   "source": [
    "a=5\n",
    "A=10\n",
    "print(a)\n",
    "print(A)"
   ]
  },
  {
   "cell_type": "code",
   "execution_count": 5,
   "metadata": {},
   "outputs": [
    {
     "name": "stdout",
     "output_type": "stream",
     "text": [
      "100 100 100\n"
     ]
    }
   ],
   "source": [
    "a=b=c=100\n",
    "print(a,b,c)"
   ]
  },
  {
   "cell_type": "code",
   "execution_count": 6,
   "metadata": {},
   "outputs": [
    {
     "name": "stdout",
     "output_type": "stream",
     "text": [
      "Initial String: \n",
      "GeeksForGeeks\n",
      "\n",
      "First character of String is: \n",
      "G\n",
      "\n",
      "Last character of String is: \n",
      "s\n",
      "\n",
      "Slicing of String\n",
      "Geeks For Geeks\n"
     ]
    }
   ],
   "source": [
    "String = \"GeeksForGeeks\"\n",
    "print(\"Initial String: \")\n",
    "print(String)\n",
    "\n",
    "# Printing First character\n",
    "print(\"\\nFirst character of String is: \")\n",
    "print(String[0])\n",
    "\n",
    "# Printing Last character\n",
    "print(\"\\nLast character of String is: \")\n",
    "print(String[-1])\n",
    "\n",
    "#Slicing of String\n",
    "print(\"\\nSlicing of String\")\n",
    "print(String[0:5],String[5:8],String[8:len(String)])"
   ]
  },
  {
   "cell_type": "code",
   "execution_count": 7,
   "metadata": {},
   "outputs": [
    {
     "name": "stdout",
     "output_type": "stream",
     "text": [
      "35\n"
     ]
    }
   ],
   "source": [
    "x = 25\n",
    "x = x + 10\n",
    "print(x)"
   ]
  },
  {
   "cell_type": "code",
   "execution_count": 8,
   "metadata": {},
   "outputs": [
    {
     "name": "stdout",
     "output_type": "stream",
     "text": [
      "True\n",
      "True\n",
      "True\n"
     ]
    }
   ],
   "source": [
    "x = [\"Math\", \"Biology\"]\n",
    "y = [\"Math\", \"Biology\"]\n",
    "z = x\n",
    "print(x is z)\n",
    "# returns True because z is the same object as x\n",
    "print(x is not y)\n",
    "# returns True because x is not the same object as y, even if they have the same content\n",
    "print(x == y)\n",
    "# to demonstrate the difference betweeen \"is\" and \"==\": this comparison returns True because x  is equal to y"
   ]
  },
  {
   "cell_type": "code",
   "execution_count": 9,
   "metadata": {},
   "outputs": [
    {
     "name": "stdout",
     "output_type": "stream",
     "text": [
      "True\n",
      "True\n"
     ]
    }
   ],
   "source": [
    "x = [\"apple\", \"banana\"]\n",
    "print(\"banana\" in x)\n",
    "\n",
    "x = [\"apple\", \"banana\"]\n",
    "print(\"pineapple\" not in x)"
   ]
  },
  {
   "cell_type": "code",
   "execution_count": 10,
   "metadata": {},
   "outputs": [
    {
     "name": "stdout",
     "output_type": "stream",
     "text": [
      "word\n",
      "This is a sentence.\n",
      "This is a paragraph. It is\n",
      "made up of multiple lines and sentences.\n"
     ]
    }
   ],
   "source": [
    "word = \"word\"\n",
    "sentence = \"This is a sentence.\"\n",
    "paragraph = \"\"\"This is a paragraph. It is\n",
    "made up of multiple lines and sentences.\"\"\"\n",
    "print(word)\n",
    "print(sentence)\n",
    "print(paragraph)"
   ]
  },
  {
   "cell_type": "code",
   "execution_count": 11,
   "metadata": {},
   "outputs": [
    {
     "name": "stdout",
     "output_type": "stream",
     "text": [
      "35\n"
     ]
    }
   ],
   "source": [
    "x = -35\n",
    "x = abs(x)\n",
    "print(x)"
   ]
  },
  {
   "cell_type": "code",
   "execution_count": 12,
   "metadata": {},
   "outputs": [
    {
     "name": "stdout",
     "output_type": "stream",
     "text": [
      "True\n"
     ]
    }
   ],
   "source": [
    "x = 6\n",
    "y = 4\n",
    "print(x>y)"
   ]
  },
  {
   "cell_type": "code",
   "execution_count": 13,
   "metadata": {},
   "outputs": [
    {
     "name": "stdout",
     "output_type": "stream",
     "text": [
      "403.4287934927351\n"
     ]
    }
   ],
   "source": [
    "import math\n",
    "x = 6\n",
    "print(math.exp(x))"
   ]
  },
  {
   "cell_type": "code",
   "execution_count": 14,
   "metadata": {},
   "outputs": [
    {
     "name": "stdout",
     "output_type": "stream",
     "text": [
      "1.791759469228055\n"
     ]
    }
   ],
   "source": [
    "x = 6\n",
    "print(math.log(x))"
   ]
  },
  {
   "cell_type": "code",
   "execution_count": 15,
   "metadata": {},
   "outputs": [
    {
     "name": "stdout",
     "output_type": "stream",
     "text": [
      "0.7781512503836436\n"
     ]
    }
   ],
   "source": [
    "x = 6\n",
    "print(math.log10(x))"
   ]
  },
  {
   "cell_type": "code",
   "execution_count": 16,
   "metadata": {},
   "outputs": [
    {
     "name": "stdout",
     "output_type": "stream",
     "text": [
      "36.0\n"
     ]
    }
   ],
   "source": [
    "x = 6\n",
    "print(math.pow(x, 2))"
   ]
  },
  {
   "cell_type": "code",
   "execution_count": 17,
   "metadata": {},
   "outputs": [
    {
     "name": "stdout",
     "output_type": "stream",
     "text": [
      "2.449489742783178\n"
     ]
    }
   ],
   "source": [
    "x = 6\n",
    "print(math.sqrt(x))"
   ]
  },
  {
   "cell_type": "code",
   "execution_count": 18,
   "metadata": {},
   "outputs": [
    {
     "name": "stdout",
     "output_type": "stream",
     "text": [
      "1023\n"
     ]
    }
   ],
   "source": [
    "val = input(\"Enter your value: \")\n",
    "print(val)"
   ]
  },
  {
   "cell_type": "code",
   "execution_count": 19,
   "metadata": {},
   "outputs": [
    {
     "name": "stdout",
     "output_type": "stream",
     "text": [
      "5 1223.334\n"
     ]
    }
   ],
   "source": [
    "a = int(input())\n",
    "b = float(input())\n",
    "print(a,b)"
   ]
  },
  {
   "cell_type": "code",
   "execution_count": 20,
   "metadata": {},
   "outputs": [
    {
     "name": "stdout",
     "output_type": "stream",
     "text": [
      "Number of boys:  123\n",
      "Number of girls:  62\n"
     ]
    }
   ],
   "source": [
    "# taking two inputs at a time\n",
    "x, y = input(\"Enter two values: \").split()\n",
    "print(\"Number of boys: \", x)\n",
    "print(\"Number of girls: \", y)"
   ]
  },
  {
   "cell_type": "code",
   "execution_count": 21,
   "metadata": {},
   "outputs": [
    {
     "name": "stdout",
     "output_type": "stream",
     "text": [
      "First Number is:  103\n",
      "Second Number is:  930\n"
     ]
    }
   ],
   "source": [
    "x, y = [int(x) for x in input(\"Enter two values: \").split()]\n",
    "print(\"First Number is: \", x)\n",
    "print(\"Second Number is: \", y)"
   ]
  },
  {
   "cell_type": "code",
   "execution_count": 22,
   "metadata": {},
   "outputs": [
    {
     "name": "stdout",
     "output_type": "stream",
     "text": [
      "Name: John\n",
      "Age: 30\n"
     ]
    }
   ],
   "source": [
    "name = \"John\"\n",
    "age = 30 \n",
    "print(\"Name:\", name)\n",
    "print(\"Age:\", age)"
   ]
  },
  {
   "cell_type": "code",
   "execution_count": 23,
   "metadata": {},
   "outputs": [
    {
     "name": "stdout",
     "output_type": "stream",
     "text": [
      "2.0\n"
     ]
    }
   ],
   "source": [
    "x = int(input())\n",
    "print(math.sqrt(x))"
   ]
  },
  {
   "cell_type": "code",
   "execution_count": 24,
   "metadata": {},
   "outputs": [
    {
     "name": "stdout",
     "output_type": "stream",
     "text": [
      "Area of Rectangle:  50\n"
     ]
    }
   ],
   "source": [
    "l = 10\n",
    "b = 5\n",
    "print(\"Area of Rectangle: \",l*b)"
   ]
  },
  {
   "cell_type": "code",
   "execution_count": 25,
   "metadata": {},
   "outputs": [
    {
     "name": "stdout",
     "output_type": "stream",
     "text": [
      "Area of Circle:  65.94\n"
     ]
    }
   ],
   "source": [
    "r = float(input())\n",
    "pie = 3.14\n",
    "print(\"Area of Circle: \",r*pie)"
   ]
  },
  {
   "cell_type": "code",
   "execution_count": 26,
   "metadata": {},
   "outputs": [
    {
     "name": "stdout",
     "output_type": "stream",
     "text": [
      "Area of Triangle:  25.0\n"
     ]
    }
   ],
   "source": [
    "b = 5\n",
    "h = 10\n",
    "print(\"Area of Triangle: \", 1/2*b*h)"
   ]
  }
 ],
 "metadata": {
  "kernelspec": {
   "display_name": "Python 3",
   "language": "python",
   "name": "python3"
  },
  "language_info": {
   "codemirror_mode": {
    "name": "ipython",
    "version": 3
   },
   "file_extension": ".py",
   "mimetype": "text/x-python",
   "name": "python",
   "nbconvert_exporter": "python",
   "pygments_lexer": "ipython3",
   "version": "3.12.3"
  }
 },
 "nbformat": 4,
 "nbformat_minor": 4
}
