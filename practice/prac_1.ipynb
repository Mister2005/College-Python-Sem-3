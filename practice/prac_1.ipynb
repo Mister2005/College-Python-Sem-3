{
 "cells": [
  {
   "cell_type": "markdown",
   "metadata": {},
   "source": [
    "# Practice Question Image 1 Solution"
   ]
  },
  {
   "cell_type": "code",
   "execution_count": 1,
   "metadata": {},
   "outputs": [
    {
     "name": "stdout",
     "output_type": "stream",
     "text": [
      "I: 8\n",
      "am: 8\n",
      "Varun: 1\n",
      "Vansh: 1\n",
      "Rajesh: 1\n",
      "Rohan: 1\n",
      "Sohan: 1\n",
      "Yash: 2\n",
      "Vihaan: 1\n"
     ]
    }
   ],
   "source": [
    "from collections import Counter\n",
    "\n",
    "filename = \"sample.txt\"  # Replace with your file name\n",
    "\n",
    "try:\n",
    "    with open(filename, 'r') as file:\n",
    "        text = file.read()\n",
    "        words = text.split()\n",
    "        word_count = Counter(words)\n",
    "        for word, count in word_count.items():\n",
    "            print(f\"{word}: {count}\")\n",
    "except FileNotFoundError:\n",
    "    print(f\"The file {filename} was not found.\")"
   ]
  },
  {
   "cell_type": "code",
   "execution_count": 2,
   "metadata": {},
   "outputs": [
    {
     "name": "stdout",
     "output_type": "stream",
     "text": [
      "[1, 2, 3, 4, 5, 6, 7, 8, 9, 10]\n"
     ]
    }
   ],
   "source": [
    "numbers = list(map(int, input(\"Enter space separated numbers to save in file: \").split()))\n",
    "\n",
    "# Write to file\n",
    "with open(\"numbers.txt\", \"w\") as file:\n",
    "    for num in numbers:\n",
    "        file.write(f\"{num}\\n\")\n",
    "\n",
    "# Read from file\n",
    "with open(\"numbers.txt\", \"r\") as file:\n",
    "    read_numbers = [int(line.strip()) for line in file]\n",
    "\n",
    "print(read_numbers)"
   ]
  },
  {
   "cell_type": "code",
   "execution_count": 3,
   "metadata": {},
   "outputs": [
    {
     "name": "stdout",
     "output_type": "stream",
     "text": [
      "Error: Cannot divide by zero.\n"
     ]
    }
   ],
   "source": [
    "try:\n",
    "    num1 = int(input(\"Enter numerator: \"))\n",
    "    num2 = int(input(\"Enter denominator: \"))\n",
    "    result = num1 / num2\n",
    "    print(f\"Result: {result}\")\n",
    "except ZeroDivisionError:\n",
    "    print(\"Error: Cannot divide by zero.\")\n",
    "except ValueError:\n",
    "    print(\"Error: Invalid input. Please enter integers.\")"
   ]
  },
  {
   "cell_type": "code",
   "execution_count": 4,
   "metadata": {},
   "outputs": [
    {
     "name": "stdout",
     "output_type": "stream",
     "text": [
      "THIS IS NORMAL FILE\n"
     ]
    }
   ],
   "source": [
    "filename = \"nonexistent.txt\"\n",
    "\n",
    "try:\n",
    "    with open(filename, 'r') as file:\n",
    "        content = file.read()\n",
    "        print(content)\n",
    "except FileNotFoundError:\n",
    "    print(f\"The file {filename} does not exist.\")"
   ]
  },
  {
   "cell_type": "code",
   "execution_count": 5,
   "metadata": {},
   "outputs": [
    {
     "name": "stdout",
     "output_type": "stream",
     "text": [
      "Make: Toyota, Model: Innova, Year: 2021\n"
     ]
    }
   ],
   "source": [
    "class Car:\n",
    "    def __init__(self, make, model, year):\n",
    "        self.make = make\n",
    "        self.model = model\n",
    "        self.year = year\n",
    "\n",
    "car = Car(\"Toyota\", \"Innova\", 2021)\n",
    "print(f\"Make: {car.make}, Model: {car.model}, Year: {car.year}\")"
   ]
  },
  {
   "cell_type": "code",
   "execution_count": 6,
   "metadata": {},
   "outputs": [
    {
     "name": "stdout",
     "output_type": "stream",
     "text": [
      "Buddy says Woof\n"
     ]
    }
   ],
   "source": [
    "class Animal:\n",
    "    def __init__(self, name):\n",
    "        self.name = name\n",
    "\n",
    "    def sound(self):\n",
    "        return \"Some sound\"\n",
    "\n",
    "class Dog(Animal):\n",
    "    def sound(self):\n",
    "        return \"Woof\"\n",
    "\n",
    "dog = Dog(\"Buddy\")\n",
    "print(f\"{dog.name} says {dog.sound()}\")"
   ]
  },
  {
   "cell_type": "code",
   "execution_count": 7,
   "metadata": {},
   "outputs": [
    {
     "name": "stdout",
     "output_type": "stream",
     "text": [
      "[1, 4, 9, 16, 25, 36, 49, 64, 81, 100]\n"
     ]
    }
   ],
   "source": [
    "squares = [x**2 for x in range(1, 11)]\n",
    "print(squares)"
   ]
  },
  {
   "cell_type": "code",
   "execution_count": 8,
   "metadata": {},
   "outputs": [
    {
     "name": "stdout",
     "output_type": "stream",
     "text": [
      "['banana', 'cherry']\n"
     ]
    }
   ],
   "source": [
    "strings = [\"apple\", \"banana\", \"pear\", \"cherry\", \"kiwi\"]\n",
    "filtered = [s for s in strings if len(s) > 5]\n",
    "print(filtered)"
   ]
  },
  {
   "cell_type": "code",
   "execution_count": 9,
   "metadata": {},
   "outputs": [
    {
     "name": "stdout",
     "output_type": "stream",
     "text": [
      "olleh\n"
     ]
    }
   ],
   "source": [
    "def reverse_string(s):\n",
    "    return s[::-1]\n",
    "\n",
    "print(reverse_string(\"hello\"))"
   ]
  },
  {
   "cell_type": "code",
   "execution_count": 10,
   "metadata": {},
   "outputs": [
    {
     "name": "stdout",
     "output_type": "stream",
     "text": [
      "hll wrld\n"
     ]
    }
   ],
   "source": [
    "def remove_vowels(s):\n",
    "    vowels = \"aeiouAEIOU\"\n",
    "    return \"\".join([char for char in s if char not in vowels])\n",
    "\n",
    "print(remove_vowels(\"hello world\"))"
   ]
  },
  {
   "cell_type": "code",
   "execution_count": 11,
   "metadata": {},
   "outputs": [
    {
     "name": "stdout",
     "output_type": "stream",
     "text": [
      "120\n"
     ]
    }
   ],
   "source": [
    "def factorial(n):\n",
    "    if n == 0:\n",
    "        return 1\n",
    "    return n * factorial(n - 1)\n",
    "\n",
    "print(factorial(5))"
   ]
  },
  {
   "cell_type": "code",
   "execution_count": 5,
   "metadata": {},
   "outputs": [
    {
     "name": "stdout",
     "output_type": "stream",
     "text": [
      "Row sum: 6\n",
      "Row sum: 15\n",
      "Row sum: 24\n"
     ]
    }
   ],
   "source": [
    "with open(\"matrix.txt\", \"r\") as file:\n",
    "    for line in file:\n",
    "        row = list(map(int, line.split()))\n",
    "        print(f\"Row sum: {sum(row)}\")"
   ]
  },
  {
   "cell_type": "code",
   "execution_count": 13,
   "metadata": {},
   "outputs": [
    {
     "name": "stdout",
     "output_type": "stream",
     "text": [
      "Chindi is a teenage girl: True\n"
     ]
    }
   ],
   "source": [
    "class Student:\n",
    "    def __init__(self, name, age, gender):\n",
    "        self.name = name\n",
    "        self.age = age\n",
    "        self.gender = gender\n",
    "\n",
    "    def is_teenager(self):\n",
    "        return 13 <= self.age <= 19\n",
    "\n",
    "student = Student(\"Chindi\", 15, \"girl\")\n",
    "print(f\"{student.name} is a teenage {student.gender}: {student.is_teenager()}\")"
   ]
  },
  {
   "cell_type": "code",
   "execution_count": 14,
   "metadata": {},
   "outputs": [
    {
     "name": "stdout",
     "output_type": "stream",
     "text": [
      "Printing using Inkjet printer\n",
      "Printing using Laser printer\n"
     ]
    }
   ],
   "source": [
    "class Printer:\n",
    "    def print_document(self):\n",
    "        pass\n",
    "\n",
    "class InkjetPrinter(Printer):\n",
    "    def print_document(self):\n",
    "        return \"Printing using Inkjet printer\"\n",
    "\n",
    "class LaserPrinter(Printer):\n",
    "    def print_document(self):\n",
    "        return \"Printing using Laser printer\"\n",
    "\n",
    "printers = [InkjetPrinter(), LaserPrinter()]\n",
    "for printer in printers:\n",
    "    print(printer.print_document())"
   ]
  },
  {
   "cell_type": "code",
   "execution_count": null,
   "metadata": {},
   "outputs": [],
   "source": [
    "import tkinter as tk\n",
    "\n",
    "def convert():\n",
    "    temp = float(entry.get())\n",
    "    if var.get() == \"C\":\n",
    "        result = (temp * 9/5) + 32\n",
    "        label_result.config(text=f\"{result} °F\")\n",
    "    else:\n",
    "        result = (temp - 32) * 5/9\n",
    "        label_result.config(text=f\"{result} °C\")\n",
    "\n",
    "root = tk.Tk()\n",
    "root.title(\"Temperature Converter\")\n",
    "\n",
    "entry = tk.Entry(root)\n",
    "entry.pack()\n",
    "\n",
    "var = tk.StringVar(value=\"C\")\n",
    "tk.Radiobutton(root, text=\"Celsius to Fahrenheit\", variable=var, value=\"C\").pack()\n",
    "tk.Radiobutton(root, text=\"Fahrenheit to Celsius\", variable=var, value=\"F\").pack()\n",
    "\n",
    "button = tk.Button(root, text=\"Convert\", command=convert)\n",
    "button.pack()\n",
    "\n",
    "label_result = tk.Label(root, text=\"Result\")\n",
    "label_result.pack()\n",
    "\n",
    "root.mainloop()"
   ]
  },
  {
   "cell_type": "code",
   "execution_count": null,
   "metadata": {},
   "outputs": [],
   "source": [
    "import tkinter as tk\n",
    "from tkinter import messagebox\n",
    "\n",
    "def display_info():\n",
    "    name = entry_name.get()\n",
    "    age = entry_age.get()\n",
    "    messagebox.showinfo(\"Info\", f\"Name: {name}, Age: {age}\")\n",
    "\n",
    "root = tk.Tk()\n",
    "root.title(\"Form\")\n",
    "\n",
    "tk.Label(root, text=\"Name\").pack()\n",
    "entry_name = tk.Entry(root)\n",
    "entry_name.pack()\n",
    "\n",
    "tk.Label(root, text=\"Age\").pack()\n",
    "entry_age = tk.Entry(root)\n",
    "entry_age.pack()\n",
    "\n",
    "tk.Button(root, text=\"Submit\", command=display_info).pack()\n",
    "\n",
    "root.mainloop()"
   ]
  },
  {
   "cell_type": "code",
   "execution_count": 17,
   "metadata": {},
   "outputs": [],
   "source": [
    "import tkinter as tk\n",
    "\n",
    "root = tk.Tk()\n",
    "canvas = tk.Canvas(root, width=200, height=200)\n",
    "canvas.pack()\n",
    "\n",
    "canvas.create_oval(50, 50, 150, 150, fill=\"yellow\")\n",
    "canvas.create_oval(70, 80, 90, 100, fill=\"black\")\n",
    "canvas.create_oval(110, 80, 130, 100, fill=\"black\")\n",
    "canvas.create_arc(70, 100, 130, 140, start=0, extent=-180, style=tk.ARC)\n",
    "\n",
    "root.mainloop()"
   ]
  },
  {
   "cell_type": "code",
   "execution_count": 18,
   "metadata": {},
   "outputs": [],
   "source": [
    "import tkinter as tk\n",
    "\n",
    "def on_click(event):\n",
    "    # Get the text of the button clicked\n",
    "    text = event.widget.cget(\"text\")\n",
    "    if text == \"=\":\n",
    "        try:\n",
    "            result = eval(str(entry.get()))\n",
    "            entry.delete(0, tk.END)\n",
    "            entry.insert(tk.END, str(result))\n",
    "        except Exception as e:\n",
    "            entry.delete(0, tk.END)\n",
    "            entry.insert(tk.END, \"Error\")\n",
    "    elif text == \"C\":\n",
    "        entry.delete(0, tk.END)\n",
    "    else:\n",
    "        entry.insert(tk.END, text)\n",
    "\n",
    "# Create the main window\n",
    "root = tk.Tk()\n",
    "root.title(\"Calculator\")\n",
    "\n",
    "# Entry widget for input/output\n",
    "entry = tk.Entry(root, font=\"Arial 18\", borderwidth=5, relief=tk.RIDGE, justify=\"right\")\n",
    "entry.grid(row=0, column=0, columnspan=4, pady=10, padx=10)\n",
    "\n",
    "# Button labels\n",
    "buttons = [\n",
    "    \"7\", \"8\", \"9\", \"/\",\n",
    "    \"4\", \"5\", \"6\", \"*\",\n",
    "    \"1\", \"2\", \"3\", \"-\",\n",
    "    \"C\", \"0\", \"=\", \"+\"\n",
    "]\n",
    "\n",
    "# Add buttons to the grid\n",
    "row_val, col_val = 1, 0\n",
    "for button in buttons:\n",
    "    btn = tk.Button(root, text=button, font=\"Arial 18\", width=4, height=2)\n",
    "    btn.grid(row=row_val, column=col_val, padx=5, pady=5)\n",
    "    btn.bind(\"<Button-1>\", on_click)\n",
    "\n",
    "    col_val += 1\n",
    "    if col_val > 3:\n",
    "        col_val = 0\n",
    "        row_val += 1\n",
    "\n",
    "# Start the Tkinter main loop\n",
    "root.mainloop()"
   ]
  }
 ],
 "metadata": {
  "kernelspec": {
   "display_name": "Python 3",
   "language": "python",
   "name": "python3"
  },
  "language_info": {
   "codemirror_mode": {
    "name": "ipython",
    "version": 3
   },
   "file_extension": ".py",
   "mimetype": "text/x-python",
   "name": "python",
   "nbconvert_exporter": "python",
   "pygments_lexer": "ipython3",
   "version": "3.12.3"
  }
 },
 "nbformat": 4,
 "nbformat_minor": 2
}
