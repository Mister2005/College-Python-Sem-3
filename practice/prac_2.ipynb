{
 "cells": [
  {
   "cell_type": "markdown",
   "metadata": {},
   "source": [
    "# Practice Question Image 2 Solution"
   ]
  },
  {
   "cell_type": "code",
   "execution_count": 1,
   "metadata": {},
   "outputs": [
    {
     "name": "stdout",
     "output_type": "stream",
     "text": [
      "Total products: 2\n"
     ]
    }
   ],
   "source": [
    "class Product:\n",
    "    total_products = 0\n",
    "\n",
    "    def __init__(self, name):\n",
    "        self.name = name\n",
    "        Product.total_products += 1\n",
    "\n",
    "    @staticmethod\n",
    "    def get_total_products():\n",
    "        return Product.total_products\n",
    "\n",
    "# Example usage:\n",
    "p1 = Product(\"Laptop\")\n",
    "p2 = Product(\"Phone\")\n",
    "print(\"Total products:\", Product.get_total_products())"
   ]
  },
  {
   "cell_type": "code",
   "execution_count": 2,
   "metadata": {},
   "outputs": [
    {
     "name": "stdout",
     "output_type": "stream",
     "text": [
      "1984 by George Orwell, ISBN: 123456789\n",
      "Animal Farm by George Orwell, ISBN: 987654321\n",
      "[<__main__.Library.Book object at 0x00000224048A2630>]\n"
     ]
    }
   ],
   "source": [
    "class Library:\n",
    "    class Book:\n",
    "        def __init__(self, title, author, isbn):\n",
    "            self.title = title\n",
    "            self.author = author\n",
    "            self.isbn = isbn\n",
    "\n",
    "        def __str__(self):\n",
    "            return f\"{self.title} by {self.author}, ISBN: {self.isbn}\"\n",
    "\n",
    "    def __init__(self):\n",
    "        self.catalog = []\n",
    "\n",
    "    def add_book(self, title, author, isbn):\n",
    "        book = self.Book(title, author, isbn)\n",
    "        self.catalog.append(book)\n",
    "\n",
    "    def search_by_title(self, title):\n",
    "        return [book for book in self.catalog if title.lower() in book.title.lower()]\n",
    "\n",
    "    def display_catalog(self):\n",
    "        for book in self.catalog:\n",
    "            print(book)\n",
    "\n",
    "# Example usage:\n",
    "library = Library()\n",
    "library.add_book(\"1984\", \"George Orwell\", \"123456789\")\n",
    "library.add_book(\"Animal Farm\", \"George Orwell\", \"987654321\")\n",
    "library.display_catalog()\n",
    "print(library.search_by_title(\"1984\"))"
   ]
  },
  {
   "cell_type": "code",
   "execution_count": 4,
   "metadata": {},
   "outputs": [
    {
     "name": "stdout",
     "output_type": "stream",
     "text": [
      "Area: 78.53981633974483\n",
      "Area: 28\n",
      "Area: 9.0\n"
     ]
    }
   ],
   "source": [
    "import math\n",
    "\n",
    "class Shape:\n",
    "    def area(self):\n",
    "        pass\n",
    "\n",
    "class Circle(Shape):\n",
    "    def __init__(self, radius):\n",
    "        self.radius = radius\n",
    "\n",
    "    def area(self):\n",
    "        return math.pi * self.radius ** 2\n",
    "\n",
    "class Rectangle(Shape):\n",
    "    def __init__(self, length, width):\n",
    "        self.length = length\n",
    "        self.width = width\n",
    "\n",
    "    def area(self):\n",
    "        return self.length * self.width\n",
    "\n",
    "class Triangle(Shape):\n",
    "    def __init__(self, base, height):\n",
    "        self.base = base\n",
    "        self.height = height\n",
    "\n",
    "    def area(self):\n",
    "        return 0.5 * self.base * self.height\n",
    "\n",
    "# Example usage:\n",
    "shapes = [Circle(5), Rectangle(4, 7), Triangle(3, 6)]\n",
    "for shape in shapes:\n",
    "    print(\"Area:\", shape.area())"
   ]
  },
  {
   "cell_type": "code",
   "execution_count": 4,
   "metadata": {},
   "outputs": [
    {
     "name": "stdout",
     "output_type": "stream",
     "text": [
      "True\n",
      "False\n"
     ]
    }
   ],
   "source": [
    "def is_prime(num):\n",
    "    if not isinstance(num, int):\n",
    "        raise ValueError(\"Input must be an integer.\")\n",
    "    if num <= 1:\n",
    "        return False\n",
    "    for i in range(2, int(num ** 0.5) + 1):\n",
    "        if num % i == 0:\n",
    "            return False\n",
    "    return True\n",
    "\n",
    "try:\n",
    "    print(is_prime(11))\n",
    "    print(is_prime(4))\n",
    "except ValueError as e:\n",
    "    print(e)"
   ]
  },
  {
   "cell_type": "code",
   "execution_count": null,
   "metadata": {},
   "outputs": [
    {
     "name": "stdout",
     "output_type": "stream",
     "text": [
      "Symmetric\n"
     ]
    }
   ],
   "source": [
    "def is_symmetric(matrix):\n",
    "    rows = len(matrix)\n",
    "    cols = len(matrix[0])\n",
    "    for i in range(rows):\n",
    "        for j in range(cols):\n",
    "            if matrix[i][j] != matrix[j][i]:\n",
    "                return False\n",
    "    return True\n",
    "\n",
    "matrix = [[1, 2, 3], [2, 1, 4], [3, 4, 1]]\n",
    "print(\"Symmetric\" if is_symmetric(matrix) else \"Not symmetric\")"
   ]
  },
  {
   "cell_type": "code",
   "execution_count": 13,
   "metadata": {},
   "outputs": [
    {
     "name": "stdout",
     "output_type": "stream",
     "text": [
      "8.0\n"
     ]
    }
   ],
   "source": [
    "class FormulaError(Exception):\n",
    "    pass\n",
    "\n",
    "def calculate(expression):\n",
    "    tokens = expression.split()\n",
    "    if len(tokens) != 3:\n",
    "        raise FormulaError(\"Input must consist of three elements.\")\n",
    "\n",
    "    try:\n",
    "        a, op, b = float(tokens[0]), tokens[1], float(tokens[2])\n",
    "    except ValueError:\n",
    "        raise FormulaError(\"The first and third inputs must be numbers.\")\n",
    "\n",
    "    if op not in ['+', '-']:\n",
    "        raise FormulaError(\"Operator must be '+' or '-'.\")\n",
    "\n",
    "    return a + b if op == '+' else a - b\n",
    "\n",
    "try:\n",
    "    print(calculate(input(\"Enter an expression of 3 elements space separated: \")))\n",
    "except FormulaError as e:\n",
    "    print(e)"
   ]
  },
  {
   "cell_type": "code",
   "execution_count": 10,
   "metadata": {},
   "outputs": [
    {
     "name": "stdout",
     "output_type": "stream",
     "text": [
      "Hello, World!\n"
     ]
    }
   ],
   "source": [
    "try:\n",
    "    with open(\"example.txt\", \"r\") as file:\n",
    "        print(file.read())\n",
    "except FileNotFoundError:\n",
    "    print(\"File not found.\")"
   ]
  },
  {
   "cell_type": "code",
   "execution_count": 11,
   "metadata": {},
   "outputs": [],
   "source": [
    "try:\n",
    "    with open(\"example.txt\", \"w\") as file:\n",
    "        file.write(\"Hello, World!\")\n",
    "except PermissionError:\n",
    "    print(\"Permission denied.\")"
   ]
  },
  {
   "cell_type": "code",
   "execution_count": 26,
   "metadata": {},
   "outputs": [
    {
     "name": "stdout",
     "output_type": "stream",
     "text": [
      "Name: Varun, Age: 19, City: Ahmedabad, Gender: Male, Games: Volley ball\n"
     ]
    }
   ],
   "source": [
    "import tkinter as tk\n",
    "\n",
    "def submit_details():\n",
    "    print(f\"Name: {name_var.get()}, Age: {age_var.get()}, City: {city_var.get()}, Gender: {gender_var.get()}, Games: {games_var.get()}\")\n",
    "\n",
    "root = tk.Tk()\n",
    "root.title(\"Details Form\")\n",
    "\n",
    "name_var, age_var, city_var, gender_var, games_var = tk.StringVar(), tk.StringVar(), tk.StringVar(), tk.StringVar(), tk.StringVar()\n",
    "\n",
    "tk.Label(root, text=\"Name:\").grid(row=0, column=0)\n",
    "tk.Entry(root, textvariable=name_var).grid(row=0, column=1)\n",
    "\n",
    "tk.Label(root, text=\"Age:\").grid(row=1, column=0)\n",
    "tk.Entry(root, textvariable=age_var, show=\"*\").grid(row=1, column=1)\n",
    "\n",
    "tk.Label(root, text=\"City:\").grid(row=2, column=0)\n",
    "tk.Entry(root, textvariable=city_var).grid(row=2, column=1)\n",
    "\n",
    "tk.Label(root, text=\"Gender:\").grid(row=3, column=0)\n",
    "tk.Radiobutton(root, text=\"Male\", variable=gender_var, value=\"Male\").grid(row=3, column=1)\n",
    "tk.Radiobutton(root, text=\"Female\", variable=gender_var, value=\"Female\").grid(row=3, column=2)\n",
    "\n",
    "tk.Label(root, text=\"Favorite Games:\").grid(row=4, column=0)\n",
    "tk.Checkbutton(root, text=\"Football\", variable=games_var, onvalue=\"Football\").grid(row=4, column=1)\n",
    "tk.Checkbutton(root, text=\"Cricket\", variable=games_var, onvalue=\"Cricket\").grid(row=4, column=2)\n",
    "tk.Checkbutton(root, text=\"Basketball\", variable=games_var, onvalue=\"Basketball\").grid(row=4, column=3)\n",
    "tk.Checkbutton(root, text=\"Volley ball\", variable=games_var, onvalue=\"Volley ball\").grid(row=4, column=4)\n",
    "\n",
    "tk.Button(root, text=\"Submit\", command=submit_details).grid(row=5, column=0, columnspan=5)\n",
    "root.mainloop()"
   ]
  },
  {
   "cell_type": "code",
   "execution_count": 13,
   "metadata": {},
   "outputs": [
    {
     "name": "stdout",
     "output_type": "stream",
     "text": [
      "The factorial of 50 is 30414093201713378043612608166064768844377641568960512000000000000\n",
      "The factorial of 5 is 120\n"
     ]
    }
   ],
   "source": [
    "import tkinter as tk\n",
    "from math import factorial\n",
    "\n",
    "def calculate_factorial():\n",
    "    try:\n",
    "        num = int(entry.get())\n",
    "        result = factorial(num)\n",
    "        print(f\"The factorial of {num} is {result}\")\n",
    "    except ValueError:\n",
    "        print(\"Please enter a valid integer.\")\n",
    "\n",
    "root = tk.Tk()\n",
    "root.title(\"Factorial Calculator\")\n",
    "\n",
    "tk.Label(root, text=\"Enter a number:\").grid(row=0, column=0)\n",
    "entry = tk.Entry(root)\n",
    "entry.grid(row=0, column=1)\n",
    "\n",
    "tk.Button(root, text=\"Calculate\", command=calculate_factorial).grid(row=1, column=0, columnspan=2)\n",
    "\n",
    "root.mainloop()"
   ]
  },
  {
   "cell_type": "code",
   "execution_count": 14,
   "metadata": {},
   "outputs": [
    {
     "name": "stdout",
     "output_type": "stream",
     "text": [
      "The number 5 is Odd.\n"
     ]
    }
   ],
   "source": [
    "def is_even_or_odd(num):\n",
    "    return \"Even\" if num % 2 == 0 else \"Odd\"\n",
    "\n",
    "try:\n",
    "    number = int(input(\"Enter a number: \"))\n",
    "    print(f\"The number {number} is {is_even_or_odd(number)}.\")\n",
    "except ValueError:\n",
    "    print(\"Please enter a valid integer.\")"
   ]
  },
  {
   "cell_type": "code",
   "execution_count": 27,
   "metadata": {},
   "outputs": [
    {
     "name": "stdout",
     "output_type": "stream",
     "text": [
      "Fibonnaci series of 5 numbers: [0, 1, 1, 2, 3]\n"
     ]
    }
   ],
   "source": [
    "def fibonacci_sequence(n):\n",
    "    sequence = [0, 1]\n",
    "    for i in range(2, n):\n",
    "        sequence.append(sequence[-1] + sequence[-2])\n",
    "    return sequence[:n]\n",
    "\n",
    "n = int(input(\"Enter a no.: \"))\n",
    "print(f\"Fibonnaci series of {n} numbers:\", fibonacci_sequence(n))"
   ]
  },
  {
   "cell_type": "code",
   "execution_count": 32,
   "metadata": {},
   "outputs": [
    {
     "name": "stdout",
     "output_type": "stream",
     "text": [
      "20 x 1 = 20\n",
      "20 x 2 = 40\n",
      "20 x 3 = 60\n",
      "20 x 4 = 80\n",
      "20 x 5 = 100\n",
      "20 x 6 = 120\n",
      "20 x 7 = 140\n",
      "20 x 8 = 160\n",
      "20 x 9 = 180\n",
      "20 x 10 = 200\n"
     ]
    }
   ],
   "source": [
    "def multiplication_table(num):\n",
    "    for i in range(1, 11):\n",
    "        print(f\"{num} x {i} = {num * i}\")\n",
    "try:\n",
    "    number = int(input(\"Enter a number: \"))\n",
    "    multiplication_table(number)\n",
    "except ValueError:\n",
    "    print(\"Please enter a valid integer.\")"
   ]
  },
  {
   "cell_type": "code",
   "execution_count": null,
   "metadata": {},
   "outputs": [
    {
     "name": "stdout",
     "output_type": "stream",
     "text": [
      "The factorial of 4 is 24.\n"
     ]
    }
   ],
   "source": [
    "def factorial(num):\n",
    "    if num < 0:\n",
    "        raise ValueError(\"Factorial is not defined for negative numbers.\")\n",
    "    return 1 if num == 0 else num * factorial(num - 1)\n",
    "try:\n",
    "    number = int(input(\"Enter a number: \"))\n",
    "    print(f\"The factorial of {number} is {factorial(number)}.\")\n",
    "except ValueError as e:\n",
    "    print(e)"
   ]
  },
  {
   "cell_type": "code",
   "execution_count": 36,
   "metadata": {},
   "outputs": [
    {
     "name": "stdout",
     "output_type": "stream",
     "text": [
      "Sum of positive numbers list [1, 5, 9, -8, 5]: 20\n"
     ]
    }
   ],
   "source": [
    "def sum_of_positive_numbers(numbers):\n",
    "    return sum(num for num in numbers if num > 0)\n",
    "try:\n",
    "    input_list = list(map(int, input(\"Enter numbers separated by spaces: \").split()))\n",
    "    print(f\"Sum of positive numbers list {input_list}:\", sum_of_positive_numbers(input_list))\n",
    "except ValueError:\n",
    "    print(\"Please enter valid integers.\")"
   ]
  }
 ],
 "metadata": {
  "kernelspec": {
   "display_name": "Python 3",
   "language": "python",
   "name": "python3"
  },
  "language_info": {
   "codemirror_mode": {
    "name": "ipython",
    "version": 3
   },
   "file_extension": ".py",
   "mimetype": "text/x-python",
   "name": "python",
   "nbconvert_exporter": "python",
   "pygments_lexer": "ipython3",
   "version": "3.12.3"
  }
 },
 "nbformat": 4,
 "nbformat_minor": 2
}
