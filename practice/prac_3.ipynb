{
 "cells": [
  {
   "cell_type": "markdown",
   "metadata": {},
   "source": [
    "# Practice Question Image 3 Solution"
   ]
  },
  {
   "cell_type": "code",
   "execution_count": 1,
   "metadata": {},
   "outputs": [
    {
     "name": "stdout",
     "output_type": "stream",
     "text": [
      "[0, 1, 1, 2, 3, 5, 8, 13, 21, 34]\n"
     ]
    }
   ],
   "source": [
    "def fibonacci(n):\n",
    "    if n <= 1:\n",
    "        return n\n",
    "    return fibonacci(n-1) + fibonacci(n-2)\n",
    "\n",
    "terms = 10\n",
    "print([fibonacci(i) for i in range(terms)])"
   ]
  },
  {
   "cell_type": "code",
   "execution_count": 2,
   "metadata": {},
   "outputs": [
    {
     "name": "stdout",
     "output_type": "stream",
     "text": [
      "93326215443944152681699238856266700490715968264381621468592963895217599993229915608941463976156518286253697920827223758251185210916864000000000000000000000000\n"
     ]
    }
   ],
   "source": [
    "from functools import reduce\n",
    "\n",
    "product = reduce(lambda x, y: x * y, range(1, 101))\n",
    "print(product)"
   ]
  },
  {
   "cell_type": "code",
   "execution_count": 3,
   "metadata": {},
   "outputs": [
    {
     "name": "stdout",
     "output_type": "stream",
     "text": [
      "True\n"
     ]
    }
   ],
   "source": [
    "def contains_007(lst):\n",
    "    pattern = [0, 0, 7]\n",
    "    idx = 0\n",
    "    for num in lst:\n",
    "        if num == pattern[idx]:\n",
    "            idx += 1\n",
    "        if idx == len(pattern):\n",
    "            return True\n",
    "    return False\n",
    "\n",
    "print(contains_007([1, 0, 0, 7, 5]))"
   ]
  },
  {
   "cell_type": "code",
   "execution_count": 4,
   "metadata": {},
   "outputs": [
    {
     "name": "stdout",
     "output_type": "stream",
     "text": [
      "Hello!\n",
      "Hello!\n",
      "Hello!\n",
      "Hello!\n",
      "Hello!\n"
     ]
    }
   ],
   "source": [
    "def repeat_decorator(func):\n",
    "    def wrapper(*args, **kwargs):\n",
    "        for _ in range(5):\n",
    "            func(*args, **kwargs)\n",
    "    return wrapper\n",
    "\n",
    "@repeat_decorator\n",
    "def say_hello():\n",
    "    print(\"Hello!\")\n",
    "\n",
    "say_hello()"
   ]
  },
  {
   "cell_type": "code",
   "execution_count": 10,
   "metadata": {},
   "outputs": [
    {
     "name": "stdout",
     "output_type": "stream",
     "text": [
      "[8, 4, 6, 2]\n"
     ]
    }
   ],
   "source": [
    "def store_evens(arr):\n",
    "    return [num for num in arr if num % 2 == 0]\n",
    "\n",
    "print(store_evens(list(map(int, input(\"Enter a list of numbers space separated: \").split()))))"
   ]
  },
  {
   "cell_type": "code",
   "execution_count": 15,
   "metadata": {},
   "outputs": [
    {
     "name": "stdout",
     "output_type": "stream",
     "text": [
      "Processing 8...\n",
      "Error: Argument is not even!\n"
     ]
    }
   ],
   "source": [
    "def even_arg(func):\n",
    "    def wrapper(x):\n",
    "        if x % 2 == 0:\n",
    "            return func(x)\n",
    "        else:\n",
    "            print(\"Error: Argument is not even!\")\n",
    "    return wrapper\n",
    "\n",
    "@even_arg\n",
    "def process_number(n):\n",
    "    print(f\"Processing {n}...\")\n",
    "\n",
    "process_number(int(input()))\n",
    "process_number(int(input()))"
   ]
  },
  {
   "cell_type": "code",
   "execution_count": 17,
   "metadata": {},
   "outputs": [
    {
     "name": "stdout",
     "output_type": "stream",
     "text": [
      "20\n"
     ]
    }
   ],
   "source": [
    "def multiply_decorator(factor):\n",
    "    def decorator(func):\n",
    "        def wrapper(*args, **kwargs):\n",
    "            return func(*args, **kwargs) * factor\n",
    "        return wrapper\n",
    "    return decorator\n",
    "\n",
    "@multiply_decorator(int(input(\"Enter a mult factor: \")))\n",
    "def get_number():\n",
    "    return int(input(\"Enter a no.: \"))\n",
    "\n",
    "print(get_number())"
   ]
  },
  {
   "cell_type": "code",
   "execution_count": 18,
   "metadata": {},
   "outputs": [
    {
     "name": "stdout",
     "output_type": "stream",
     "text": [
      "90\n"
     ]
    }
   ],
   "source": [
    "def max_product_pair(arr):\n",
    "    arr.sort()\n",
    "    return arr[-1] * arr[-2]\n",
    "\n",
    "print(max_product_pair([1, 10, 2, 9, 3]))"
   ]
  },
  {
   "cell_type": "code",
   "execution_count": 9,
   "metadata": {},
   "outputs": [
    {
     "name": "stdout",
     "output_type": "stream",
     "text": [
      "36\n"
     ]
    }
   ],
   "source": [
    "def square(func):\n",
    "    def wrapper(num):\n",
    "        return func(num) ** 2\n",
    "    return wrapper\n",
    "\n",
    "def doubled(func):\n",
    "    def wrapper(num):\n",
    "        return func(num) * 2\n",
    "    return wrapper\n",
    "\n",
    "@square\n",
    "@doubled\n",
    "def calculate(num):\n",
    "    return num\n",
    "\n",
    "print(calculate(3))"
   ]
  },
  {
   "cell_type": "code",
   "execution_count": 10,
   "metadata": {},
   "outputs": [
    {
     "name": "stdout",
     "output_type": "stream",
     "text": [
      "[(5, 0), (3, 1), (1, 2), (2, 3)]\n"
     ]
    }
   ],
   "source": [
    "tuples = [(1, 2), (3, 1), (5, 0), (2, 3)]\n",
    "sorted_tuples = sorted(tuples, key=lambda x: x[1])\n",
    "print(sorted_tuples)"
   ]
  },
  {
   "cell_type": "code",
   "execution_count": 22,
   "metadata": {},
   "outputs": [
    {
     "name": "stdout",
     "output_type": "stream",
     "text": [
      "70\n"
     ]
    }
   ],
   "source": [
    "class BankAccount:\n",
    "    def __init__(self):\n",
    "        self.balance = 0\n",
    "\n",
    "    def deposit(self, amount):\n",
    "        self.balance += amount\n",
    "\n",
    "    def withdraw(self, amount):\n",
    "        if amount > self.balance:\n",
    "            print(\"Insufficient funds\")\n",
    "        else:\n",
    "            self.balance -= amount\n",
    "\n",
    "    def check_balance(self):\n",
    "        return self.balance\n",
    "\n",
    "account = BankAccount()\n",
    "account.deposit(100)\n",
    "account.withdraw(30)\n",
    "print(account.check_balance())"
   ]
  },
  {
   "cell_type": "code",
   "execution_count": 12,
   "metadata": {},
   "outputs": [
    {
     "name": "stdout",
     "output_type": "stream",
     "text": [
      "Squares: [1, 4, 9, 16]\n",
      "Cubes: [1, 8, 27, 64]\n"
     ]
    }
   ],
   "source": [
    "nums = [1, 2, 3, 4]\n",
    "squares = list(map(lambda x: x**2, nums))\n",
    "cubes = list(map(lambda x: x**3, nums))\n",
    "print(\"Squares:\", squares)\n",
    "print(\"Cubes:\", cubes)"
   ]
  },
  {
   "cell_type": "code",
   "execution_count": 13,
   "metadata": {},
   "outputs": [
    {
     "name": "stdout",
     "output_type": "stream",
     "text": [
      "ID: 1, Name: John Doe, Email: john.doe@example.com, Salary: 50000\n"
     ]
    }
   ],
   "source": [
    "class Employee:\n",
    "    def __init__(self, employee_id, first_name, last_name, email, salary):\n",
    "        self.employee_id = employee_id\n",
    "        self.first_name = first_name\n",
    "        self.last_name = last_name\n",
    "        self.email = email\n",
    "        self.salary = salary\n",
    "\n",
    "    def display_employee_details(self):\n",
    "        print(f\"ID: {self.employee_id}, Name: {self.first_name} {self.last_name}, Email: {self.email}, Salary: {self.salary}\")\n",
    "\n",
    "employee = Employee(1, \"John\", \"Doe\", \"john.doe@example.com\", 50000)\n",
    "employee.display_employee_details()"
   ]
  },
  {
   "cell_type": "code",
   "execution_count": 14,
   "metadata": {},
   "outputs": [
    {
     "name": "stdout",
     "output_type": "stream",
     "text": [
      "Added: [5, 7, 9]\n",
      "Subtracted: [-3, -3, -3]\n"
     ]
    }
   ],
   "source": [
    "lst1 = [1, 2, 3]\n",
    "lst2 = [4, 5, 6]\n",
    "\n",
    "added = list(map(lambda x, y: x + y, lst1, lst2))\n",
    "subtracted = list(map(lambda x, y: x - y, lst1, lst2))\n",
    "\n",
    "print(\"Added:\", added)\n",
    "print(\"Subtracted:\", subtracted)"
   ]
  },
  {
   "cell_type": "code",
   "execution_count": 15,
   "metadata": {},
   "outputs": [
    {
     "name": "stdout",
     "output_type": "stream",
     "text": [
      "Average Salary: 65000.0\n"
     ]
    }
   ],
   "source": [
    "class Employee:\n",
    "    employee_count = 0\n",
    "    total_salary = 0\n",
    "\n",
    "    def __init__(self, employee_id, first_name, last_name, email, salary):\n",
    "        self.employee_id = employee_id\n",
    "        self.first_name = first_name\n",
    "        self.last_name = last_name\n",
    "        self.email = email\n",
    "        self.salary = salary\n",
    "        Employee.employee_count += 1\n",
    "        Employee.total_salary += salary\n",
    "\n",
    "    def display_employee_details(self):\n",
    "        print(f\"ID: {self.employee_id}, Name: {self.first_name} {self.last_name}, Email: {self.email}, Salary: {self.salary}\")\n",
    "\n",
    "    @classmethod\n",
    "    def get_employee_count(cls):\n",
    "        return cls.employee_count\n",
    "\n",
    "    @classmethod\n",
    "    def average_salary(cls):\n",
    "        return cls.total_salary / cls.employee_count if cls.employee_count > 0 else 0\n",
    "\n",
    "employees = [\n",
    "    Employee(1, \"Alice\", \"Smith\", \"alice@example.com\", 60000),\n",
    "    Employee(2, \"Bob\", \"Brown\", \"bob@example.com\", 70000)\n",
    "]\n",
    "\n",
    "print(\"Average Salary:\", Employee.average_salary())"
   ]
  },
  {
   "cell_type": "code",
   "execution_count": 16,
   "metadata": {},
   "outputs": [
    {
     "name": "stdout",
     "output_type": "stream",
     "text": [
      "[{'name': 'Bob', 'age': 21, 'grade': 55}, {'name': 'Charlie', 'age': 22, 'grade': 65}]\n"
     ]
    }
   ],
   "source": [
    "students = [\n",
    "    {\"name\": \"Alice\", \"age\": 20, \"grade\": 45},\n",
    "    {\"name\": \"Bob\", \"age\": 21, \"grade\": 55},\n",
    "    {\"name\": \"Charlie\", \"age\": 22, \"grade\": 65}\n",
    "]\n",
    "\n",
    "passed_students = list(filter(lambda s: s[\"grade\"] >= 50, students))\n",
    "print(passed_students)"
   ]
  }
 ],
 "metadata": {
  "kernelspec": {
   "display_name": "Python 3",
   "language": "python",
   "name": "python3"
  },
  "language_info": {
   "codemirror_mode": {
    "name": "ipython",
    "version": 3
   },
   "file_extension": ".py",
   "mimetype": "text/x-python",
   "name": "python",
   "nbconvert_exporter": "python",
   "pygments_lexer": "ipython3",
   "version": "3.12.3"
  }
 },
 "nbformat": 4,
 "nbformat_minor": 2
}
