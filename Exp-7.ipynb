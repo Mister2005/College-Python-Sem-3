{
 "cells": [
  {
   "cell_type": "markdown",
   "metadata": {},
   "source": [
    "# Experiment 7 of Varun Gupta"
   ]
  },
  {
   "cell_type": "markdown",
   "metadata": {},
   "source": [
    "#### 1.\tWrite a Python program to sort a list of tuples using Lambda."
   ]
  },
  {
   "cell_type": "code",
   "execution_count": 3,
   "metadata": {},
   "outputs": [
    {
     "name": "stdout",
     "output_type": "stream",
     "text": [
      "Sorted list of tuples: [(1, 2), (3, 4), (5, 6), (7, 8)]\n"
     ]
    }
   ],
   "source": [
    "def input_tuples():\n",
    "    n = int(input(\"Enter the number of tuples: \"))\n",
    "    tuples_list = []\n",
    "    for i in range(n):\n",
    "        tuple_input = tuple(map(int, input(f\"Enter tuple {i + 1} (space-separated integers): \").split()))\n",
    "        tuples_list.append(tuple_input)\n",
    "    return tuples_list\n",
    "\n",
    "def sort_tuples(tuples_list):\n",
    "    sorted_list = sorted(tuples_list, key=lambda x: x[1])\n",
    "    return sorted_list\n",
    "\n",
    "user_tuples = input_tuples()\n",
    "sorted_tuples = sort_tuples(user_tuples)\n",
    "print(\"Sorted list of tuples:\", sorted_tuples)"
   ]
  },
  {
   "cell_type": "markdown",
   "metadata": {},
   "source": [
    "#### 2.\tWrite a Python program to square and cube every number in a given list of integers using Lambda with map."
   ]
  },
  {
   "cell_type": "code",
   "execution_count": 5,
   "metadata": {},
   "outputs": [
    {
     "name": "stdout",
     "output_type": "stream",
     "text": [
      "Squares: [1, 4, 9, 16, 25, 36, 49, 64, 81, 100]\n",
      "Cubes: [1, 8, 27, 64, 125, 216, 343, 512, 729, 1000]\n"
     ]
    }
   ],
   "source": [
    "def square_and_cube(numbers):\n",
    "    squares = list(map(lambda x: x**2, numbers))\n",
    "    cubes = list(map(lambda x: x**3, numbers))    \n",
    "    return squares, cubes\n",
    "\n",
    "numbers = list(map(int, input(\"Enter a list of space-separated integers: \").split()))\n",
    "squares, cubes = square_and_cube(numbers)\n",
    "print(\"Squares:\", squares)\n",
    "print(\"Cubes:\", cubes)"
   ]
  },
  {
   "cell_type": "markdown",
   "metadata": {},
   "source": [
    "#### 3.\tWrite a Python program to add two given lists and find the difference between them. Use the map() function with function."
   ]
  },
  {
   "cell_type": "code",
   "execution_count": 7,
   "metadata": {},
   "outputs": [
    {
     "name": "stdout",
     "output_type": "stream",
     "text": [
      "Added list: [2, 6, 11, 10, 104, 12]\n",
      "Difference list: [0, 2, 5, 2, -8, -2]\n"
     ]
    }
   ],
   "source": [
    "def add_and_diff_lists(list1, list2):\n",
    "    add_list = list(map(lambda x, y: x + y, list1, list2))\n",
    "    diff_list = list(map(lambda x, y: x - y, list1, list2))\n",
    "    return add_list, diff_list\n",
    "\n",
    "list1 = list(map(int, input(\"Enter the first list of space-separated integers: \").split()))\n",
    "list2 = list(map(int, input(\"Enter the second list of space-separated integers: \").split()))\n",
    "\n",
    "if len(list1) != len(list2):\n",
    "    print(\"Error: Both lists must have the same number of elements.\")\n",
    "else:\n",
    "    add_list, diff_list = add_and_diff_lists(list1, list2)\n",
    "    print(\"Added list:\", add_list)\n",
    "    print(\"Difference list:\", diff_list)"
   ]
  },
  {
   "cell_type": "markdown",
   "metadata": {},
   "source": [
    "#### 4.\tWrite a Python program that creates a list of dictionaries containing student information (name, age, grade) and uses the filter function to extract students with a grade greater than or equal to 95."
   ]
  },
  {
   "cell_type": "code",
   "execution_count": 9,
   "metadata": {},
   "outputs": [
    {
     "name": "stdout",
     "output_type": "stream",
     "text": [
      "\n",
      "Enter details for student 1:\n",
      "\n",
      "Enter details for student 2:\n",
      "\n",
      "Enter details for student 3:\n",
      "\n",
      "Enter details for student 4:\n",
      "\n",
      "Enter details for student 5:\n",
      "\n",
      "Students with grade >= 95:\n",
      "{'name': 'Varun', 'age': 18, 'grade': 98.0}\n",
      "{'name': 'Sohan', 'age': 18, 'grade': 95.0}\n"
     ]
    }
   ],
   "source": [
    "def Toppers(student):\n",
    "    return student['grade'] >= 95\n",
    "\n",
    "def Input_data():\n",
    "    students = []\n",
    "    num_students = int(input(\"Enter the number of students: \"))\n",
    "\n",
    "    for i in range(num_students):\n",
    "        print(f\"\\nEnter details for student {i + 1}:\")\n",
    "        name = input(\"Name: \")\n",
    "        age = int(input(\"Age: \"))\n",
    "        grade = float(input(\"Grade: \"))\n",
    "        students.append({'name': name, 'age': age, 'grade': grade})    \n",
    "    return students\n",
    "\n",
    "students = Input_data()\n",
    "top_students = list(filter(Toppers, students))\n",
    "print(\"\\nStudents with grade >= 95:\")\n",
    "for student in top_students:\n",
    "    print(student)"
   ]
  },
  {
   "cell_type": "markdown",
   "metadata": {},
   "source": [
    "#### 5.\tWAP to Calculate the product of the numbers from 1 to 100 using reduce function."
   ]
  },
  {
   "cell_type": "code",
   "execution_count": 10,
   "metadata": {},
   "outputs": [
    {
     "name": "stdout",
     "output_type": "stream",
     "text": [
      "The product of numbers from 1 to 100 is: 93326215443944152681699238856266700490715968264381621468592963895217599993229915608941463976156518286253697920827223758251185210916864000000000000000000000000\n"
     ]
    }
   ],
   "source": [
    "from functools import reduce\n",
    "def multiply(x, y):\n",
    "    return x * y\n",
    "\n",
    "product = reduce(multiply, range(1, 101))\n",
    "print(f\"The product of numbers from 1 to 100 is: {product}\")"
   ]
  }
 ],
 "metadata": {
  "kernelspec": {
   "display_name": "Python 3",
   "language": "python",
   "name": "python3"
  },
  "language_info": {
   "codemirror_mode": {
    "name": "ipython",
    "version": 3
   },
   "file_extension": ".py",
   "mimetype": "text/x-python",
   "name": "python",
   "nbconvert_exporter": "python",
   "pygments_lexer": "ipython3",
   "version": "3.12.3"
  }
 },
 "nbformat": 4,
 "nbformat_minor": 2
}
