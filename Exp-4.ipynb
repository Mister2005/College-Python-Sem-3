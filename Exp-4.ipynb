{
 "cells": [
  {
   "cell_type": "markdown",
   "metadata": {},
   "source": [
    "# Exp - 4 of Varun Gupta"
   ]
  },
  {
   "cell_type": "markdown",
   "metadata": {},
   "source": [
    "### Problem statement 1"
   ]
  },
  {
   "cell_type": "code",
   "execution_count": 6,
   "metadata": {},
   "outputs": [
    {
     "name": "stdout",
     "output_type": "stream",
     "text": [
      "aru\n"
     ]
    }
   ],
   "source": [
    "str = input(\"Enter a string: \")\n",
    "x = int(len(str)/2)\n",
    "print(str[x-1:x+2])"
   ]
  },
  {
   "cell_type": "markdown",
   "metadata": {},
   "source": [
    "### Problem statement 2"
   ]
  },
  {
   "cell_type": "code",
   "execution_count": null,
   "metadata": {},
   "outputs": [
    {
     "name": "stdout",
     "output_type": "stream",
     "text": [
      "rasitama\n"
     ]
    }
   ],
   "source": [
    "str_1 = input()\n",
    "str_2 = input()\n",
    "x = int(len(str_1)/2)\n",
    "str_3 = str_1[:x] + str_2 + str_1[x:]\n",
    "print(str_3)"
   ]
  },
  {
   "cell_type": "markdown",
   "metadata": {},
   "source": [
    "### Problem statement 3"
   ]
  },
  {
   "cell_type": "code",
   "execution_count": 21,
   "metadata": {},
   "outputs": [
    {
     "name": "stdout",
     "output_type": "stream",
     "text": [
      "arunV\n"
     ]
    }
   ],
   "source": [
    "str = input()\n",
    "str_low = [i for i in str if i.islower()]\n",
    "str_up = [i for i in str if i.isupper()]\n",
    "str_merge = ''.join(str_low+str_up)\n",
    "print(str_merge)"
   ]
  },
  {
   "cell_type": "markdown",
   "metadata": {},
   "source": [
    "### Problem Statement 4"
   ]
  },
  {
   "cell_type": "code",
   "execution_count": 2,
   "metadata": {},
   "outputs": [
    {
     "name": "stdout",
     "output_type": "stream",
     "text": [
      "{'k': 6, 'h': 1, 'b': 1, 'f': 3, 'e': 5, 'a': 1, 'd': 10, 'N': 4, 'D': 1, 'n': 4, 'l': 8, 's': 5, 'I': 1, 'O': 2, 'A': 1, 'S': 1, 'p': 5, 'i': 6, 'j': 5, 'w': 3, 'm': 5, ';': 4, 'o': 6, '[': 4, 'c': 1, '2': 1, '0': 1, '3': 1, \"'\": 1}\n"
     ]
    }
   ],
   "source": [
    "str = input()\n",
    "count = {}\n",
    "for ch in str:\n",
    "    if ch in count.keys():\n",
    "        count[ch] += 1\n",
    "    else:\n",
    "        count[ch] = 1\n",
    "print(count)"
   ]
  },
  {
   "cell_type": "markdown",
   "metadata": {},
   "source": [
    "### Problem statement 5"
   ]
  },
  {
   "cell_type": "code",
   "execution_count": 25,
   "metadata": {},
   "outputs": [
    {
     "name": "stdout",
     "output_type": "stream",
     "text": [
      "5 9 15\n"
     ]
    }
   ],
   "source": [
    "str = input()\n",
    "letter = sum(ch.isalpha() for ch in str)\n",
    "number = sum(ch.isnumeric() for ch in str)\n",
    "symbols = sum(not ch.isalpha() and not ch.isnumeric() for ch in str)\n",
    "print(letter,number,symbols)"
   ]
  },
  {
   "cell_type": "markdown",
   "metadata": {},
   "source": [
    "### Problem statement 6"
   ]
  },
  {
   "cell_type": "code",
   "execution_count": 7,
   "metadata": {},
   "outputs": [
    {
     "name": "stdout",
     "output_type": "stream",
     "text": [
      "10\n"
     ]
    }
   ],
   "source": [
    "str = input()\n",
    "print(str.rfind(\"Rama\"))"
   ]
  },
  {
   "cell_type": "markdown",
   "metadata": {},
   "source": [
    "### Problem statement 7"
   ]
  },
  {
   "cell_type": "code",
   "execution_count": 10,
   "metadata": {},
   "outputs": [
    {
     "name": "stdout",
     "output_type": "stream",
     "text": [
      "45 5.0\n"
     ]
    }
   ],
   "source": [
    "sum = 0\n",
    "avg = 0\n",
    "count = 0\n",
    "\n",
    "str = input()\n",
    "\n",
    "for ch in str:\n",
    "    if ch.isnumeric():\n",
    "        ch = int(ch)\n",
    "        sum = sum  + ch\n",
    "        count = count + 1\n",
    "    else:\n",
    "        pass\n",
    "avg = sum/count\n",
    "print(sum,avg)"
   ]
  },
  {
   "cell_type": "markdown",
   "metadata": {},
   "source": [
    "### Problem statement 8"
   ]
  },
  {
   "cell_type": "code",
   "execution_count": 11,
   "metadata": {},
   "outputs": [
    {
     "name": "stdout",
     "output_type": "stream",
     "text": [
      "2005\n"
     ]
    }
   ],
   "source": [
    "str = input()\n",
    "digit = ''.join(ch for ch in str if ch.isdigit())\n",
    "print(digit)"
   ]
  },
  {
   "cell_type": "markdown",
   "metadata": {},
   "source": [
    "### Problem statement 9"
   ]
  },
  {
   "cell_type": "code",
   "execution_count": 41,
   "metadata": {},
   "outputs": [
    {
     "name": "stdout",
     "output_type": "stream",
     "text": [
      "HelloWorld#####\n"
     ]
    }
   ],
   "source": [
    "str = input()\n",
    "new_str = ''.join(ch if ch.isalnum() else '#' for ch in str)\n",
    "print(new_str)"
   ]
  }
 ],
 "metadata": {
  "kernelspec": {
   "display_name": "Python 3",
   "language": "python",
   "name": "python3"
  },
  "language_info": {
   "codemirror_mode": {
    "name": "ipython",
    "version": 3
   },
   "file_extension": ".py",
   "mimetype": "text/x-python",
   "name": "python",
   "nbconvert_exporter": "python",
   "pygments_lexer": "ipython3",
   "version": "3.12.3"
  }
 },
 "nbformat": 4,
 "nbformat_minor": 2
}
