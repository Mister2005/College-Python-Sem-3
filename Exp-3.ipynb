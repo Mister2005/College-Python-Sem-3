{
 "cells": [
  {
   "cell_type": "markdown",
   "metadata": {},
   "source": [
    "# Experiment 3 By Varun Gupta"
   ]
  },
  {
   "cell_type": "markdown",
   "metadata": {},
   "source": [
    "### WAP to demonstrate different Control Structures"
   ]
  },
  {
   "cell_type": "markdown",
   "metadata": {},
   "source": [
    "#### Program 1"
   ]
  },
  {
   "cell_type": "code",
   "execution_count": 1,
   "metadata": {},
   "outputs": [
    {
     "name": "stdout",
     "output_type": "stream",
     "text": [
      "1\n",
      "2\n",
      "4\n",
      "8\n",
      "16\n",
      "32\n",
      "64\n",
      "128\n",
      "256\n",
      "512\n",
      "1024\n",
      "2048\n"
     ]
    }
   ],
   "source": [
    "n = int(input(\"Enter the number of elements in sequence: \"))\n",
    "x = 1\n",
    "for i in range(n):\n",
    "    print(x)\n",
    "    x = x*2"
   ]
  },
  {
   "cell_type": "markdown",
   "metadata": {},
   "source": [
    "#### Program 2"
   ]
  },
  {
   "cell_type": "code",
   "execution_count": 2,
   "metadata": {},
   "outputs": [
    {
     "name": "stdout",
     "output_type": "stream",
     "text": [
      "856545658 is palindrome\n"
     ]
    }
   ],
   "source": [
    "x = int(input(\"Enter a number to check if it is palindrome or not: \"))\n",
    "x_rev = str(x)[::-1]\n",
    "if  x_rev == str(x):\n",
    "    print(f\"{x} is palindrome\")\n",
    "else:\n",
    "    print(f\"{x} is not a palindrome\")"
   ]
  },
  {
   "cell_type": "markdown",
   "metadata": {},
   "source": [
    "#### Program 3"
   ]
  },
  {
   "cell_type": "code",
   "execution_count": 3,
   "metadata": {},
   "outputs": [
    {
     "name": "stdout",
     "output_type": "stream",
     "text": [
      "2\n",
      "3\n",
      "5\n",
      "7\n"
     ]
    }
   ],
   "source": [
    "start = int(input(\"Enter the start of range: \"))\n",
    "stop = int(input(\"Enter the stop of range: \"))\n",
    "\n",
    "for i in range(start,stop+1):\n",
    "    if i > 1:\n",
    "        for j in range(2,i):\n",
    "            if i%j == 0:\n",
    "                break\n",
    "        else:\n",
    "            print(i)"
   ]
  },
  {
   "cell_type": "markdown",
   "metadata": {},
   "source": [
    "#### Program 4"
   ]
  },
  {
   "cell_type": "code",
   "execution_count": 4,
   "metadata": {},
   "outputs": [
    {
     "name": "stdout",
     "output_type": "stream",
     "text": [
      "Total no. of digits in the 456916596516515144165465149651451645146 is: 39\n"
     ]
    }
   ],
   "source": [
    "num = int(input(\"Enter a num to check its no. of digits: \"))\n",
    "print(f\"Total no. of digits in the {num} is: {len(str(num))}\")"
   ]
  },
  {
   "cell_type": "markdown",
   "metadata": {},
   "source": [
    "#### Program 5"
   ]
  },
  {
   "cell_type": "code",
   "execution_count": 5,
   "metadata": {},
   "outputs": [
    {
     "name": "stdout",
     "output_type": "stream",
     "text": [
      "*        *       *\n",
      "*       * *      *\n",
      "*      * * *     *\n",
      "*     * * * *    *\n",
      "*    * * * * *   *\n",
      "*   * * * * * *  *\n",
      "*  * * * * * * * *\n",
      "*   * * * * * *  *\n",
      "*    * * * * *   *\n",
      "*     * * * *    *\n",
      "*      * * *     *\n",
      "*       * *      *\n",
      "*        *       *\n"
     ]
    }
   ],
   "source": [
    "row=int(input(\"Enter the number of rows : \"))\n",
    " \n",
    "for i in range(0,row):\n",
    "  print(\"*\",end=\"\")\n",
    "  for j in range(0,row-i+1):\n",
    "    print(\" \",end=\"\")\n",
    "  for k in range(0, i+1):\n",
    "    print(\"* \",end=\"\")\n",
    "  for l in range(row - i - 1):\n",
    "    print(\" \", end=\"\")\n",
    "  print(\"*\")\n",
    " \n",
    "for i in range(0,row-1):\n",
    "  print(\"*\",end=\"\")\n",
    "  for j in range(0,i+3):\n",
    "    print(\" \",end=\"\")\n",
    "  for k in range(0, row-i-1):\n",
    "    print(\"* \",end=\"\")\n",
    "  for l in range(row - i - 2,row-1):\n",
    "    print(\" \", end=\"\")\n",
    "  print(\"*\")"
   ]
  }
 ],
 "metadata": {
  "kernelspec": {
   "display_name": "Python 3",
   "language": "python",
   "name": "python3"
  },
  "language_info": {
   "codemirror_mode": {
    "name": "ipython",
    "version": 3
   },
   "file_extension": ".py",
   "mimetype": "text/x-python",
   "name": "python",
   "nbconvert_exporter": "python",
   "pygments_lexer": "ipython3",
   "version": "3.12.3"
  }
 },
 "nbformat": 4,
 "nbformat_minor": 2
}
