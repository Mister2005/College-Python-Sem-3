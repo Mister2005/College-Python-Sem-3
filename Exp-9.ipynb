{
 "cells": [
  {
   "cell_type": "markdown",
   "metadata": {},
   "source": [
    "# Experiment 9 by Varun Gupta"
   ]
  },
  {
   "cell_type": "markdown",
   "metadata": {},
   "source": [
    "#### Example codes"
   ]
  },
  {
   "cell_type": "code",
   "execution_count": 1,
   "metadata": {},
   "outputs": [
    {
     "data": {
      "text/plain": [
       "0"
      ]
     },
     "execution_count": 1,
     "metadata": {},
     "output_type": "execute_result"
    }
   ],
   "source": [
    "class Bike:\n",
    "    name = \"\"\n",
    "    gear = 0\n",
    "bike1 = Bike()\n",
    "bike1.name = \"Mountain Bike\"\n",
    "bike1.gear"
   ]
  },
  {
   "cell_type": "code",
   "execution_count": 2,
   "metadata": {},
   "outputs": [
    {
     "data": {
      "text/plain": [
       "4"
      ]
     },
     "execution_count": 2,
     "metadata": {},
     "output_type": "execute_result"
    }
   ],
   "source": [
    "class Bike:\n",
    "    def __init__(self, name = \"\",gear=''):\n",
    "        self.name = name\n",
    "        self.gear = gear\n",
    "\n",
    "bike1 = Bike(\"Mountain Bike\", 4)\n",
    "bike1.name\n",
    "bike1.gear"
   ]
  },
  {
   "cell_type": "markdown",
   "metadata": {},
   "source": [
    "#### Problem Statements"
   ]
  },
  {
   "cell_type": "markdown",
   "metadata": {},
   "source": [
    "#### 1.\tCreate a BankAccount class that allows you to deposit, withdraw, and check the balance of an account."
   ]
  },
  {
   "cell_type": "code",
   "execution_count": 1,
   "metadata": {},
   "outputs": [
    {
     "name": "stdout",
     "output_type": "stream",
     "text": [
      "$200 deposited. \n",
      "New balance: $6200\n",
      "$1200 withdrawn. \n",
      "New balance: $5000\n",
      "Current balance: $5000\n"
     ]
    }
   ],
   "source": [
    "class BankAccount:\n",
    "    def __init__(self, owner, balance=0):\n",
    "        self.owner = owner\n",
    "        self.balance = balance\n",
    "    \n",
    "    def deposit(self, amount):\n",
    "        if amount > 0:\n",
    "            self.balance += amount\n",
    "            print(f\"${amount} deposited. \\nNew balance: ${self.balance}\")\n",
    "        else:\n",
    "            print(\"Deposit amount must be positive.\")\n",
    "\n",
    "    def withdraw(self, amount):\n",
    "        if amount > self.balance:\n",
    "            print(f\"Insufficient funds. \\nYour balance is ${self.balance}.\")\n",
    "        elif amount <= 0:\n",
    "            print(\"Withdrawal amount must be positive.\")\n",
    "        else:\n",
    "            self.balance -= amount\n",
    "            print(f\"${amount} withdrawn. \\nNew balance: ${self.balance}\")\n",
    "    \n",
    "    def check_balance(self):\n",
    "        print(f\"Current balance: ${self.balance}\")\n",
    "\n",
    "account = BankAccount(input(\"Enter the name of the account owner: \"),int(input(\"Enter the balance: \")))\n",
    "account.deposit(int(input(\"Enter the amout to deposit: \")))\n",
    "account.withdraw(int(input(\"Enter the amount to withdraw: \")))\n",
    "account.check_balance()"
   ]
  },
  {
   "cell_type": "markdown",
   "metadata": {},
   "source": [
    "#### 2.\tCreate an Employee class with the following characteristics:A constructor (__init__) that initializes the attributes (employee_id, first_name, last_name, email, and salary) when an object is created.A method called display_employee_details that prints the employee's details in a well-formatted manner. Create several instances of the Employee class, each representing different employees in a company. Calculate and print the average salary of all employees. Add a class variable called employee_count to keep track of the number of employee objects created. Update this variable within the constructor. Create a class method called get_employee_count that returns the total number of employees."
   ]
  },
  {
   "cell_type": "code",
   "execution_count": 2,
   "metadata": {},
   "outputs": [
    {
     "name": "stdout",
     "output_type": "stream",
     "text": [
      "\n",
      "Enter details for Employee 1:\n",
      "\n",
      "Enter details for Employee 2:\n",
      "Employee ID: 55\n",
      "Name: Varun Gupta\n",
      "Email: varunygupta123@gmail.com\n",
      "Salary: $50000000.0\n",
      "------------------------------\n",
      "Employee ID: 62\n",
      "Name: Yash Taori\n",
      "Email: taoriyash@gmail.com\n",
      "Salary: $200000.0\n",
      "------------------------------\n",
      "Total number of employees: 2\n",
      "Average salary of employees: $25100000.00\n"
     ]
    }
   ],
   "source": [
    "class Employee:\n",
    "    employee_count = 0\n",
    "    total_salary = 0\n",
    "    \n",
    "    def __init__(self, employee_id, first_name, last_name, email, salary):\n",
    "        self.employee_id = employee_id\n",
    "        self.first_name = first_name\n",
    "        self.last_name = last_name\n",
    "        self.email = email\n",
    "        self.salary = salary\n",
    "\n",
    "        Employee.employee_count += 1\n",
    "        Employee.total_salary += salary\n",
    "    \n",
    "    def display_employee_details(self):\n",
    "        print(f\"Employee ID: {self.employee_id}\")\n",
    "        print(f\"Name: {self.first_name} {self.last_name}\")\n",
    "        print(f\"Email: {self.email}\")\n",
    "        print(f\"Salary: ${self.salary}\")\n",
    "        print(\"-\" * 30)\n",
    "        \n",
    "    @classmethod\n",
    "    def get_employee_count(cls):\n",
    "        return cls.employee_count\n",
    "    \n",
    "    @classmethod\n",
    "    def get_average_salary(cls):\n",
    "        if cls.employee_count > 0:\n",
    "            return cls.total_salary / cls.employee_count\n",
    "        return 0\n",
    "\n",
    "def create_employees():\n",
    "    employee_list = []\n",
    "    num_employees = int(input(\"Enter the number of employees: \"))\n",
    "    \n",
    "    for i in range(num_employees):\n",
    "        print(f\"\\nEnter details for Employee {i + 1}:\")\n",
    "        employee_id = int(input(\"Enter Employee ID: \"))\n",
    "        first_name = input(\"Enter First Name: \")\n",
    "        last_name = input(\"Enter Last Name: \")\n",
    "        email = input(\"Enter Email: \")\n",
    "        salary = float(input(\"Enter Salary: \"))\n",
    "        employee = Employee(employee_id, first_name, last_name, email, salary)\n",
    "        employee_list.append(employee)    \n",
    "    return employee_list\n",
    "\n",
    "def display_all_employees(employee_list):\n",
    "    for employee in employee_list:\n",
    "        employee.display_employee_details()\n",
    "\n",
    "employee_list = create_employees()\n",
    "display_all_employees(employee_list)\n",
    "print(f\"Total number of employees: {Employee.get_employee_count()}\")\n",
    "average_salary = Employee.get_average_salary()\n",
    "print(f\"Average salary of employees: ${average_salary:.2f}\")"
   ]
  },
  {
   "cell_type": "markdown",
   "metadata": {},
   "source": [
    "#### 3.\tCreate a Python class called Product that represents products in an inventory. Use a static variable called total_products to keep track of the total number of product instances created. Implement a static method to retrieve the total count."
   ]
  },
  {
   "cell_type": "code",
   "execution_count": 5,
   "metadata": {},
   "outputs": [
    {
     "name": "stdout",
     "output_type": "stream",
     "text": [
      "\n",
      "Enter details for Product 1:\n",
      "\n",
      "Enter details for Product 2:\n",
      "\n",
      "Enter details for Product 3:\n",
      "Product ID: 1\n",
      "Product Name: Bread\n",
      "Price: $50.0\n",
      "Quantity: 2\n",
      "------------------------------\n",
      "Product ID: 2\n",
      "Product Name: Milk\n",
      "Price: $32.0\n",
      "Quantity: 4\n",
      "------------------------------\n",
      "Product ID: 3\n",
      "Product Name: Lays\n",
      "Price: $10.0\n",
      "Quantity: 10\n",
      "------------------------------\n",
      "Total number of products: 3\n"
     ]
    }
   ],
   "source": [
    "class Product:\n",
    "    total_products = 0\n",
    "\n",
    "    def __init__(self, product_id, name, price, quantity):\n",
    "        self.product_id = product_id\n",
    "        self.name = name\n",
    "        self.price = price\n",
    "        self.quantity = quantity\n",
    "        Product.total_products += 1\n",
    "    \n",
    "    def display_product_details(self):\n",
    "        print(f\"Product ID: {self.product_id}\")\n",
    "        print(f\"Product Name: {self.name}\")\n",
    "        print(f\"Price: ${self.price}\")\n",
    "        print(f\"Quantity: {self.quantity}\")\n",
    "        print(\"-\" * 30)\n",
    "        \n",
    "    @staticmethod\n",
    "    def get_total_products():\n",
    "        return Product.total_products\n",
    "    \n",
    "def create_products():\n",
    "    product_list = []\n",
    "    num_products = int(input(\"Enter the number of products: \"))\n",
    "    \n",
    "    for i in range(num_products):\n",
    "        print(f\"\\nEnter details for Product {i + 1}:\")\n",
    "        product_id = int(input(\"Enter Product ID: \"))\n",
    "        name = input(\"Enter Product Name: \")\n",
    "        price = float(input(\"Enter Price: \"))\n",
    "        quantity = int(input(\"Enter Quantity: \"))\n",
    "        product = Product(product_id, name, price, quantity)\n",
    "        product_list.append(product)\n",
    "    \n",
    "    return product_list\n",
    "\n",
    "def display_all_products(product_list):\n",
    "    for product in product_list:\n",
    "        product.display_product_details()\n",
    "\n",
    "product_list = create_products()\n",
    "\n",
    "display_all_products(product_list)\n",
    "\n",
    "print(f\"Total number of products: {Product.get_total_products()}\")"
   ]
  },
  {
   "cell_type": "markdown",
   "metadata": {},
   "source": [
    "#### 4.\tCreate a Library class that manages a catalog of books. Use an inner class called Book to represent individual books with attributes like title, author, and ISBN. The Library class should have methods for adding books, searching for books by title and displaying the book catalog."
   ]
  },
  {
   "cell_type": "code",
   "execution_count": 6,
   "metadata": {},
   "outputs": [
    {
     "name": "stdout",
     "output_type": "stream",
     "text": [
      "Book 'To Kill a Mockingbird' added to the catalog.\n",
      "Book '1984' added to the catalog.\n",
      "Book 'The Great Gatsby' added to the catalog.\n",
      "\n",
      "Library Catalog:\n",
      "Title: To Kill a Mockingbird\n",
      "Author: Harper Lee\n",
      "ISBN: 978-0061120084\n",
      "------------------------------\n",
      "Title: 1984\n",
      "Author: George Orwell\n",
      "ISBN: 978-0451524935\n",
      "------------------------------\n",
      "Title: The Great Gatsby\n",
      "Author: F. Scott Fitzgerald\n",
      "ISBN: 978-0743273565\n",
      "------------------------------\n",
      "\n",
      "Found 1 book(s) with 'Kill' in the title:\n",
      "Title: To Kill a Mockingbird\n",
      "Author: Harper Lee\n",
      "ISBN: 978-0061120084\n",
      "------------------------------\n"
     ]
    }
   ],
   "source": [
    "class Library:\n",
    "    class Book:\n",
    "        def __init__(self, title, author, isbn):\n",
    "            self.title = title\n",
    "            self.author = author\n",
    "            self.isbn = isbn\n",
    "\n",
    "        def display_book_details(self):\n",
    "            print(f\"Title: {self.title}\")\n",
    "            print(f\"Author: {self.author}\")\n",
    "            print(f\"ISBN: {self.isbn}\")\n",
    "            print(\"-\" * 30)\n",
    "\n",
    "    def __init__(self):\n",
    "        self.catalog = []\n",
    "\n",
    "    def add_book(self, title, author, isbn):\n",
    "        book = self.Book(title, author, isbn)\n",
    "        self.catalog.append(book)\n",
    "        print(f\"Book '{title}' added to the catalog.\")\n",
    "\n",
    "    def search_by_title(self, title):\n",
    "        found_books = [book for book in self.catalog if title.lower() in book.title.lower()]\n",
    "        if found_books:\n",
    "            print(f\"\\nFound {len(found_books)} book(s) with '{title}' in the title:\")\n",
    "            for book in found_books:\n",
    "                book.display_book_details()\n",
    "        else:\n",
    "            print(f\"No books found with the title '{title}'.\")\n",
    "\n",
    "    def display_catalog(self):\n",
    "        if self.catalog:\n",
    "            print(\"\\nLibrary Catalog:\")\n",
    "            for book in self.catalog:\n",
    "                book.display_book_details()\n",
    "        else:\n",
    "            print(\"The catalog is empty.\")\n",
    "\n",
    "library = Library()\n",
    "\n",
    "library.add_book(\"To Kill a Mockingbird\", \"Harper Lee\", \"978-0061120084\")\n",
    "library.add_book(\"1984\", \"George Orwell\", \"978-0451524935\")\n",
    "library.add_book(\"The Great Gatsby\", \"F. Scott Fitzgerald\", \"978-0743273565\")\n",
    "\n",
    "library.display_catalog()\n",
    "\n",
    "search_title = input(\"Enter the title (or part of the title) to search for: \")\n",
    "library.search_by_title(search_title)"
   ]
  },
  {
   "cell_type": "markdown",
   "metadata": {},
   "source": [
    "#### 5.\tImplement a polymorphic behavior by creating a base class Shape with a method area. Derive subclasses like Circle, Rectangle, and Triangle, each with its implementation of the area method. Demonstrate polymorphism by calculating and printing the areas of different shapes."
   ]
  },
  {
   "cell_type": "code",
   "execution_count": 10,
   "metadata": {},
   "outputs": [
    {
     "name": "stdout",
     "output_type": "stream",
     "text": [
      "The area of the shape is: 78.54\n",
      "The area of the shape is: 45.00\n",
      "The area of the shape is: 31.50\n"
     ]
    }
   ],
   "source": [
    "import math\n",
    "\n",
    "class Shape:\n",
    "    def area(self):\n",
    "        raise NotImplementedError(\"Subclasses must implement the area method.\")\n",
    "\n",
    "class Circle(Shape):\n",
    "    def __init__(self, radius):\n",
    "        self.radius = radius\n",
    "\n",
    "    def area(self):\n",
    "        return math.pi * self.radius ** 2\n",
    "\n",
    "class Rectangle(Shape):\n",
    "    def __init__(self, width, height):\n",
    "        self.width = width\n",
    "        self.height = height\n",
    "\n",
    "    def area(self):\n",
    "        return self.width * self.height\n",
    "\n",
    "class Triangle(Shape):\n",
    "    def __init__(self, base, height):\n",
    "        self.base = base\n",
    "        self.height = height\n",
    "\n",
    "    def area(self):\n",
    "        return 0.5 * self.base * self.height\n",
    "\n",
    "def print_area(shape):\n",
    "    print(f\"The area of the shape is: {shape.area():.2f}\")\n",
    "\n",
    "def create_shapes():\n",
    "    shapes = []\n",
    "    while True:\n",
    "        shape_type = input(\"Enter the shape type (circle, rectangle, triangle) or 'exit' to finish: \").lower()\n",
    "        if shape_type == 'exit':\n",
    "            break\n",
    "        \n",
    "        if shape_type == 'circle':\n",
    "            radius = float(input(\"Enter the radius of the circle: \"))\n",
    "            shapes.append(Circle(radius))\n",
    "        \n",
    "        elif shape_type == 'rectangle':\n",
    "            width = float(input(\"Enter the width of the rectangle: \"))\n",
    "            height = float(input(\"Enter the height of the rectangle: \"))\n",
    "            shapes.append(Rectangle(width, height))\n",
    "        \n",
    "        elif shape_type == 'triangle':\n",
    "            base = float(input(\"Enter the base of the triangle: \"))\n",
    "            height = float(input(\"Enter the height of the triangle: \"))\n",
    "            shapes.append(Triangle(base, height))\n",
    "        \n",
    "        else:\n",
    "            print(\"Invalid shape type. Please try again.\")\n",
    "    \n",
    "    return shapes\n",
    "\n",
    "shapes = create_shapes()\n",
    "\n",
    "for shape in shapes:\n",
    "    print_area(shape)"
   ]
  }
 ],
 "metadata": {
  "kernelspec": {
   "display_name": "Python 3",
   "language": "python",
   "name": "python3"
  },
  "language_info": {
   "codemirror_mode": {
    "name": "ipython",
    "version": 3
   },
   "file_extension": ".py",
   "mimetype": "text/x-python",
   "name": "python",
   "nbconvert_exporter": "python",
   "pygments_lexer": "ipython3",
   "version": "3.12.3"
  }
 },
 "nbformat": 4,
 "nbformat_minor": 2
}
